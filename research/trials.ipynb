{
 "cells": [
  {
   "cell_type": "code",
   "execution_count": 5,
   "metadata": {},
   "outputs": [],
   "source": [
    "import os\n",
    "import pandas as pd\n",
    "import numpy as np"
   ]
  },
  {
   "cell_type": "code",
   "execution_count": 6,
   "metadata": {},
   "outputs": [
    {
     "data": {
      "text/plain": [
       "'g:\\\\success_analytics_courses\\\\internship_project\\\\pulsar_project'"
      ]
     },
     "execution_count": 6,
     "metadata": {},
     "output_type": "execute_result"
    }
   ],
   "source": [
    "%pwd\n",
    "os.chdir(\"../\")\n",
    "%pwd"
   ]
  },
  {
   "cell_type": "code",
   "execution_count": 3,
   "metadata": {},
   "outputs": [],
   "source": [
    "df = pd.read_csv(\"artifacts\\\\data_ingestion\\\\ingested_data\\\\train.csv\")"
   ]
  },
  {
   "cell_type": "code",
   "execution_count": 7,
   "metadata": {},
   "outputs": [
    {
     "data": {
      "text/html": [
       "<div>\n",
       "<style scoped>\n",
       "    .dataframe tbody tr th:only-of-type {\n",
       "        vertical-align: middle;\n",
       "    }\n",
       "\n",
       "    .dataframe tbody tr th {\n",
       "        vertical-align: top;\n",
       "    }\n",
       "\n",
       "    .dataframe thead th {\n",
       "        text-align: right;\n",
       "    }\n",
       "</style>\n",
       "<table border=\"1\" class=\"dataframe\">\n",
       "  <thead>\n",
       "    <tr style=\"text-align: right;\">\n",
       "      <th></th>\n",
       "      <th>id</th>\n",
       "      <th>Mean_Integrated</th>\n",
       "      <th>SD</th>\n",
       "      <th>EK</th>\n",
       "      <th>Skewness</th>\n",
       "      <th>Mean_DMSNR_Curve</th>\n",
       "      <th>SD_DMSNR_Curve</th>\n",
       "      <th>EK_DMSNR_Curve</th>\n",
       "      <th>Skewness_DMSNR_Curve</th>\n",
       "      <th>Class</th>\n",
       "    </tr>\n",
       "  </thead>\n",
       "  <tbody>\n",
       "    <tr>\n",
       "      <th>0</th>\n",
       "      <td>0</td>\n",
       "      <td>133.171875</td>\n",
       "      <td>59.716081</td>\n",
       "      <td>0.043133</td>\n",
       "      <td>-0.703383</td>\n",
       "      <td>54.917224</td>\n",
       "      <td>70.084438</td>\n",
       "      <td>0.749798</td>\n",
       "      <td>-0.649512</td>\n",
       "      <td>0</td>\n",
       "    </tr>\n",
       "    <tr>\n",
       "      <th>1</th>\n",
       "      <td>1</td>\n",
       "      <td>87.093750</td>\n",
       "      <td>36.257973</td>\n",
       "      <td>0.435469</td>\n",
       "      <td>2.266057</td>\n",
       "      <td>3.417224</td>\n",
       "      <td>21.865069</td>\n",
       "      <td>7.039330</td>\n",
       "      <td>52.686251</td>\n",
       "      <td>0</td>\n",
       "    </tr>\n",
       "    <tr>\n",
       "      <th>2</th>\n",
       "      <td>2</td>\n",
       "      <td>112.640625</td>\n",
       "      <td>39.818393</td>\n",
       "      <td>0.379639</td>\n",
       "      <td>0.922306</td>\n",
       "      <td>2.730769</td>\n",
       "      <td>15.689690</td>\n",
       "      <td>8.193471</td>\n",
       "      <td>85.649785</td>\n",
       "      <td>0</td>\n",
       "    </tr>\n",
       "    <tr>\n",
       "      <th>3</th>\n",
       "      <td>3</td>\n",
       "      <td>120.679688</td>\n",
       "      <td>45.918448</td>\n",
       "      <td>-0.098490</td>\n",
       "      <td>0.011775</td>\n",
       "      <td>2.696488</td>\n",
       "      <td>20.954662</td>\n",
       "      <td>8.183874</td>\n",
       "      <td>70.332899</td>\n",
       "      <td>0</td>\n",
       "    </tr>\n",
       "    <tr>\n",
       "      <th>4</th>\n",
       "      <td>4</td>\n",
       "      <td>134.070312</td>\n",
       "      <td>57.720107</td>\n",
       "      <td>-0.107772</td>\n",
       "      <td>-0.573335</td>\n",
       "      <td>1.107860</td>\n",
       "      <td>11.255051</td>\n",
       "      <td>16.107748</td>\n",
       "      <td>308.753765</td>\n",
       "      <td>0</td>\n",
       "    </tr>\n",
       "    <tr>\n",
       "      <th>...</th>\n",
       "      <td>...</td>\n",
       "      <td>...</td>\n",
       "      <td>...</td>\n",
       "      <td>...</td>\n",
       "      <td>...</td>\n",
       "      <td>...</td>\n",
       "      <td>...</td>\n",
       "      <td>...</td>\n",
       "      <td>...</td>\n",
       "      <td>...</td>\n",
       "    </tr>\n",
       "    <tr>\n",
       "      <th>117559</th>\n",
       "      <td>117559</td>\n",
       "      <td>132.843750</td>\n",
       "      <td>56.748838</td>\n",
       "      <td>-0.060070</td>\n",
       "      <td>-0.554084</td>\n",
       "      <td>4.054348</td>\n",
       "      <td>27.844144</td>\n",
       "      <td>6.564423</td>\n",
       "      <td>44.442664</td>\n",
       "      <td>0</td>\n",
       "    </tr>\n",
       "    <tr>\n",
       "      <th>117560</th>\n",
       "      <td>117560</td>\n",
       "      <td>112.578125</td>\n",
       "      <td>52.539271</td>\n",
       "      <td>0.179580</td>\n",
       "      <td>-0.306961</td>\n",
       "      <td>1.637960</td>\n",
       "      <td>15.331913</td>\n",
       "      <td>11.384718</td>\n",
       "      <td>142.535470</td>\n",
       "      <td>0</td>\n",
       "    </tr>\n",
       "    <tr>\n",
       "      <th>117561</th>\n",
       "      <td>117561</td>\n",
       "      <td>119.757812</td>\n",
       "      <td>49.980013</td>\n",
       "      <td>0.064402</td>\n",
       "      <td>-0.270822</td>\n",
       "      <td>3.877926</td>\n",
       "      <td>19.788559</td>\n",
       "      <td>6.959740</td>\n",
       "      <td>56.367789</td>\n",
       "      <td>0</td>\n",
       "    </tr>\n",
       "    <tr>\n",
       "      <th>117562</th>\n",
       "      <td>117562</td>\n",
       "      <td>105.789062</td>\n",
       "      <td>46.986595</td>\n",
       "      <td>0.441426</td>\n",
       "      <td>0.372466</td>\n",
       "      <td>2.097826</td>\n",
       "      <td>17.170612</td>\n",
       "      <td>9.442445</td>\n",
       "      <td>99.074539</td>\n",
       "      <td>0</td>\n",
       "    </tr>\n",
       "    <tr>\n",
       "      <th>117563</th>\n",
       "      <td>117563</td>\n",
       "      <td>113.515625</td>\n",
       "      <td>50.935956</td>\n",
       "      <td>0.031517</td>\n",
       "      <td>-0.443831</td>\n",
       "      <td>23.290970</td>\n",
       "      <td>62.006842</td>\n",
       "      <td>2.386364</td>\n",
       "      <td>4.001859</td>\n",
       "      <td>0</td>\n",
       "    </tr>\n",
       "  </tbody>\n",
       "</table>\n",
       "<p>117564 rows × 10 columns</p>\n",
       "</div>"
      ],
      "text/plain": [
       "            id  Mean_Integrated         SD        EK  Skewness  \\\n",
       "0            0       133.171875  59.716081  0.043133 -0.703383   \n",
       "1            1        87.093750  36.257973  0.435469  2.266057   \n",
       "2            2       112.640625  39.818393  0.379639  0.922306   \n",
       "3            3       120.679688  45.918448 -0.098490  0.011775   \n",
       "4            4       134.070312  57.720107 -0.107772 -0.573335   \n",
       "...        ...              ...        ...       ...       ...   \n",
       "117559  117559       132.843750  56.748838 -0.060070 -0.554084   \n",
       "117560  117560       112.578125  52.539271  0.179580 -0.306961   \n",
       "117561  117561       119.757812  49.980013  0.064402 -0.270822   \n",
       "117562  117562       105.789062  46.986595  0.441426  0.372466   \n",
       "117563  117563       113.515625  50.935956  0.031517 -0.443831   \n",
       "\n",
       "        Mean_DMSNR_Curve  SD_DMSNR_Curve  EK_DMSNR_Curve  \\\n",
       "0              54.917224       70.084438        0.749798   \n",
       "1               3.417224       21.865069        7.039330   \n",
       "2               2.730769       15.689690        8.193471   \n",
       "3               2.696488       20.954662        8.183874   \n",
       "4               1.107860       11.255051       16.107748   \n",
       "...                  ...             ...             ...   \n",
       "117559          4.054348       27.844144        6.564423   \n",
       "117560          1.637960       15.331913       11.384718   \n",
       "117561          3.877926       19.788559        6.959740   \n",
       "117562          2.097826       17.170612        9.442445   \n",
       "117563         23.290970       62.006842        2.386364   \n",
       "\n",
       "        Skewness_DMSNR_Curve  Class  \n",
       "0                  -0.649512      0  \n",
       "1                  52.686251      0  \n",
       "2                  85.649785      0  \n",
       "3                  70.332899      0  \n",
       "4                 308.753765      0  \n",
       "...                      ...    ...  \n",
       "117559             44.442664      0  \n",
       "117560            142.535470      0  \n",
       "117561             56.367789      0  \n",
       "117562             99.074539      0  \n",
       "117563              4.001859      0  \n",
       "\n",
       "[117564 rows x 10 columns]"
      ]
     },
     "execution_count": 7,
     "metadata": {},
     "output_type": "execute_result"
    }
   ],
   "source": [
    "df"
   ]
  },
  {
   "cell_type": "code",
   "execution_count": 8,
   "metadata": {},
   "outputs": [
    {
     "name": "stdout",
     "output_type": "stream",
     "text": [
      "<class 'pandas.core.frame.DataFrame'>\n",
      "RangeIndex: 117564 entries, 0 to 117563\n",
      "Data columns (total 10 columns):\n",
      " #   Column                Non-Null Count   Dtype  \n",
      "---  ------                --------------   -----  \n",
      " 0   id                    117564 non-null  int64  \n",
      " 1   Mean_Integrated       117564 non-null  float64\n",
      " 2   SD                    117564 non-null  float64\n",
      " 3   EK                    117564 non-null  float64\n",
      " 4   Skewness              117564 non-null  float64\n",
      " 5   Mean_DMSNR_Curve      117564 non-null  float64\n",
      " 6   SD_DMSNR_Curve        117564 non-null  float64\n",
      " 7   EK_DMSNR_Curve        117564 non-null  float64\n",
      " 8   Skewness_DMSNR_Curve  117564 non-null  float64\n",
      " 9   Class                 117564 non-null  int64  \n",
      "dtypes: float64(8), int64(2)\n",
      "memory usage: 9.0 MB\n"
     ]
    }
   ],
   "source": [
    "df.info()"
   ]
  },
  {
   "cell_type": "code",
   "execution_count": 11,
   "metadata": {},
   "outputs": [
    {
     "data": {
      "text/plain": [
       "0"
      ]
     },
     "execution_count": 11,
     "metadata": {},
     "output_type": "execute_result"
    }
   ],
   "source": [
    "df['Class'].dtype == 'int64'\n",
    "a = df.isna().sum().sum()\n",
    "a"
   ]
  },
  {
   "cell_type": "code",
   "execution_count": 14,
   "metadata": {},
   "outputs": [
    {
     "data": {
      "text/plain": [
       "['id',\n",
       " 'Mean_Integrated',\n",
       " 'SD',\n",
       " 'EK',\n",
       " 'Skewness',\n",
       " 'Mean_DMSNR_Curve',\n",
       " 'SD_DMSNR_Curve',\n",
       " 'EK_DMSNR_Curve',\n",
       " 'Skewness_DMSNR_Curve',\n",
       " 'Class']"
      ]
     },
     "execution_count": 14,
     "metadata": {},
     "output_type": "execute_result"
    }
   ],
   "source": [
    "a = [ft for ft in df.columns if df[ft].isna().sum()==0]\n",
    "a"
   ]
  },
  {
   "cell_type": "code",
   "execution_count": 16,
   "metadata": {},
   "outputs": [
    {
     "data": {
      "text/plain": [
       "2"
      ]
     },
     "execution_count": 16,
     "metadata": {},
     "output_type": "execute_result"
    }
   ],
   "source": [
    "df['Class'].nunique()"
   ]
  },
  {
   "cell_type": "code",
   "execution_count": 2,
   "metadata": {},
   "outputs": [
    {
     "name": "stdout",
     "output_type": "stream",
     "text": [
      "1\n",
      "2\n",
      "3\n"
     ]
    }
   ],
   "source": [
    "l = [1,2,3]\n",
    "for i in l:\n",
    "    print(i)\n",
    "    with open('example.txt', 'w', encoding='utf-8') as my_file:\n",
    "        my_file.write(f'{i}\\n')\n",
    "        my_file.close()"
   ]
  },
  {
   "cell_type": "code",
   "execution_count": 4,
   "metadata": {},
   "outputs": [],
   "source": [
    "a_list = ['bobby', 'hadz', 'com']\n",
    "with open('example.txt', 'w', encoding='utf-8') as my_file:\n",
    "    for item in a_list:\n",
    "        my_file.write(f'{item}\\n')"
   ]
  },
  {
   "cell_type": "code",
   "execution_count": 1,
   "metadata": {},
   "outputs": [
    {
     "data": {
      "text/plain": [
       "'g:\\\\success_analytics_courses\\\\internship_project\\\\pulsar_project'"
      ]
     },
     "execution_count": 1,
     "metadata": {},
     "output_type": "execute_result"
    }
   ],
   "source": [
    "import os\n",
    "%pwd\n",
    "os.chdir(\"../\")\n",
    "%pwd"
   ]
  },
  {
   "cell_type": "code",
   "execution_count": 3,
   "metadata": {},
   "outputs": [],
   "source": [
    "import os\n",
    "from pulsarclassification.logging import logging\n",
    "from pulsarclassification.constants import *\n",
    "from pulsarclassification.utils.common import read_yaml,create_directories,get_file_size\n",
    "#from pulsarclassification.entity import DataIngestionConfiguration,DataValidationConfiguration\n",
    "\n",
    "class DataValidation:\n",
    "    def __init__(self):\n",
    "\n",
    "        try:\n",
    "            #self.ingestion_config = ingestion_config\n",
    "            #self.validation_config = validation_config\n",
    "            self.schema = read_yaml(SCHEMA_FILE_PATH)\n",
    "        except Exception as e:\n",
    "            raise e \n",
    "    def check(self):\n",
    "        return self.schema"
   ]
  },
  {
   "cell_type": "code",
   "execution_count": 4,
   "metadata": {},
   "outputs": [
    {
     "name": "stdout",
     "output_type": "stream",
     "text": [
      "[20-08-2023 18:27:25: INFO: common:  yaml file from this path config\\schema.yaml read succesfully]\n"
     ]
    }
   ],
   "source": [
    "dv = DataValidation()\n",
    "a = dv.check()"
   ]
  },
  {
   "cell_type": "code",
   "execution_count": 5,
   "metadata": {},
   "outputs": [
    {
     "data": {
      "text/plain": [
       "9"
      ]
     },
     "execution_count": 5,
     "metadata": {},
     "output_type": "execute_result"
    }
   ],
   "source": [
    "a.number_of_feature_columns"
   ]
  },
  {
   "cell_type": "code",
   "execution_count": 2,
   "metadata": {},
   "outputs": [
    {
     "name": "stdout",
     "output_type": "stream",
     "text": [
      "Subject added successfully.\n"
     ]
    }
   ],
   "source": [
    "def add_subject_to_file(filename, new_subject):\n",
    "    try:\n",
    "        with open(filename, 'a') as file:\n",
    "            file.write(new_subject + '\\n')  # Add a newline after each subject\n",
    "        print(\"Subject added successfully.\")\n",
    "    except Exception as e:\n",
    "        print(\"An error occurred:\", e)\n",
    "\n",
    "# Example usage\n",
    "file_name = \"subjects.txt\"  # Replace this with your actual file name\n",
    "new_subject = \"Biology\"     # Replace this with the new subject you want to add\n",
    "\n",
    "add_subject_to_file(file_name, new_subject)\n"
   ]
  },
  {
   "cell_type": "code",
   "execution_count": 32,
   "metadata": {},
   "outputs": [
    {
     "name": "stdout",
     "output_type": "stream",
     "text": [
      "[24-08-2023 06:47:48: INFO: common:  yaml file from this path G:\\success_analytics_courses\\internship_project\\pulsar_project\\config\\schema.yaml read succesfully]\n"
     ]
    },
    {
     "data": {
      "text/plain": [
       "ConfigBox({'number_of_feature_columns': 9, 'numeriacl_columns': 'id Mean_Integrated SD EK Skewness Mean_DMSNR_Curve SD_DMSNR_Curve EK_DMSNR_Curve Skewness_DMSNR_Curve Class', 'datatype_of_columns': {'id': 'int64', 'Mean_Integrated': 'float64', 'SD': 'float64', 'EK': 'float64', 'Skewness': 'float64', 'Mean_DMSNR_Curve': 'float64', 'SD_DMSNR_Curve': 'float64', 'EK_DMSNR_Curve': 'float64', 'Skewness_DMSNR_Curve': 'float64', 'Class': 'int64'}, 'target_column': 'Class', 'class_value': {'Class_0': 0, 'Class_1': 1}})"
      ]
     },
     "execution_count": 32,
     "metadata": {},
     "output_type": "execute_result"
    }
   ],
   "source": [
    "from pulsarclassification.utils.common import read_yaml,create_directories,get_file_size\n",
    "schema = read_yaml(\"G:\\\\success_analytics_courses\\\\internship_project\\\\pulsar_project\\\\config\\\\schema.yaml\")\n",
    "schema"
   ]
  },
  {
   "cell_type": "code",
   "execution_count": 17,
   "metadata": {},
   "outputs": [
    {
     "data": {
      "text/plain": [
       "ConfigBox({'Class_0': 0, 'Class_1': 1})"
      ]
     },
     "execution_count": 17,
     "metadata": {},
     "output_type": "execute_result"
    }
   ],
   "source": [
    "schema.class_value"
   ]
  },
  {
   "cell_type": "code",
   "execution_count": 21,
   "metadata": {},
   "outputs": [
    {
     "data": {
      "text/plain": [
       "((106597, 10), (10967, 10))"
      ]
     },
     "execution_count": 21,
     "metadata": {},
     "output_type": "execute_result"
    }
   ],
   "source": [
    "a = df[df[schema.target_column] == schema.class_value.Class_0]\n",
    "b = df[df[schema.target_column] == schema.class_value.Class_1]\n",
    "a.shape,b.shape"
   ]
  },
  {
   "cell_type": "code",
   "execution_count": 22,
   "metadata": {},
   "outputs": [
    {
     "data": {
      "text/plain": [
       "2193.4"
      ]
     },
     "execution_count": 22,
     "metadata": {},
     "output_type": "execute_result"
    }
   ],
   "source": [
    "10967*0.2"
   ]
  },
  {
   "cell_type": "code",
   "execution_count": 35,
   "metadata": {},
   "outputs": [],
   "source": [
    "ft = schema.numeriacl_columns.split(\" \")"
   ]
  },
  {
   "cell_type": "code",
   "execution_count": 36,
   "metadata": {},
   "outputs": [
    {
     "data": {
      "text/plain": [
       "['id',\n",
       " 'Mean_Integrated',\n",
       " 'SD',\n",
       " 'EK',\n",
       " 'Skewness',\n",
       " 'Mean_DMSNR_Curve',\n",
       " 'SD_DMSNR_Curve',\n",
       " 'EK_DMSNR_Curve',\n",
       " 'Skewness_DMSNR_Curve',\n",
       " 'Class']"
      ]
     },
     "execution_count": 36,
     "metadata": {},
     "output_type": "execute_result"
    }
   ],
   "source": [
    "ft"
   ]
  },
  {
   "cell_type": "code",
   "execution_count": 37,
   "metadata": {},
   "outputs": [
    {
     "data": {
      "text/plain": [
       "['Mean_Integrated',\n",
       " 'SD',\n",
       " 'EK',\n",
       " 'Skewness',\n",
       " 'Mean_DMSNR_Curve',\n",
       " 'SD_DMSNR_Curve',\n",
       " 'EK_DMSNR_Curve',\n",
       " 'Skewness_DMSNR_Curve',\n",
       " 'Class']"
      ]
     },
     "execution_count": 37,
     "metadata": {},
     "output_type": "execute_result"
    }
   ],
   "source": [
    "ft.remove(\"id\")\n",
    "ft"
   ]
  },
  {
   "cell_type": "code",
   "execution_count": 39,
   "metadata": {},
   "outputs": [],
   "source": [
    "a = df[ft]"
   ]
  },
  {
   "cell_type": "code",
   "execution_count": 40,
   "metadata": {},
   "outputs": [
    {
     "data": {
      "text/html": [
       "<div>\n",
       "<style scoped>\n",
       "    .dataframe tbody tr th:only-of-type {\n",
       "        vertical-align: middle;\n",
       "    }\n",
       "\n",
       "    .dataframe tbody tr th {\n",
       "        vertical-align: top;\n",
       "    }\n",
       "\n",
       "    .dataframe thead th {\n",
       "        text-align: right;\n",
       "    }\n",
       "</style>\n",
       "<table border=\"1\" class=\"dataframe\">\n",
       "  <thead>\n",
       "    <tr style=\"text-align: right;\">\n",
       "      <th></th>\n",
       "      <th>Mean_Integrated</th>\n",
       "      <th>SD</th>\n",
       "      <th>EK</th>\n",
       "      <th>Skewness</th>\n",
       "      <th>Mean_DMSNR_Curve</th>\n",
       "      <th>SD_DMSNR_Curve</th>\n",
       "      <th>EK_DMSNR_Curve</th>\n",
       "      <th>Skewness_DMSNR_Curve</th>\n",
       "      <th>Class</th>\n",
       "    </tr>\n",
       "  </thead>\n",
       "  <tbody>\n",
       "    <tr>\n",
       "      <th>0</th>\n",
       "      <td>133.171875</td>\n",
       "      <td>59.716081</td>\n",
       "      <td>0.043133</td>\n",
       "      <td>-0.703383</td>\n",
       "      <td>54.917224</td>\n",
       "      <td>70.084438</td>\n",
       "      <td>0.749798</td>\n",
       "      <td>-0.649512</td>\n",
       "      <td>0</td>\n",
       "    </tr>\n",
       "    <tr>\n",
       "      <th>1</th>\n",
       "      <td>87.093750</td>\n",
       "      <td>36.257973</td>\n",
       "      <td>0.435469</td>\n",
       "      <td>2.266057</td>\n",
       "      <td>3.417224</td>\n",
       "      <td>21.865069</td>\n",
       "      <td>7.039330</td>\n",
       "      <td>52.686251</td>\n",
       "      <td>0</td>\n",
       "    </tr>\n",
       "    <tr>\n",
       "      <th>2</th>\n",
       "      <td>112.640625</td>\n",
       "      <td>39.818393</td>\n",
       "      <td>0.379639</td>\n",
       "      <td>0.922306</td>\n",
       "      <td>2.730769</td>\n",
       "      <td>15.689690</td>\n",
       "      <td>8.193471</td>\n",
       "      <td>85.649785</td>\n",
       "      <td>0</td>\n",
       "    </tr>\n",
       "    <tr>\n",
       "      <th>3</th>\n",
       "      <td>120.679688</td>\n",
       "      <td>45.918448</td>\n",
       "      <td>-0.098490</td>\n",
       "      <td>0.011775</td>\n",
       "      <td>2.696488</td>\n",
       "      <td>20.954662</td>\n",
       "      <td>8.183874</td>\n",
       "      <td>70.332899</td>\n",
       "      <td>0</td>\n",
       "    </tr>\n",
       "    <tr>\n",
       "      <th>4</th>\n",
       "      <td>134.070312</td>\n",
       "      <td>57.720107</td>\n",
       "      <td>-0.107772</td>\n",
       "      <td>-0.573335</td>\n",
       "      <td>1.107860</td>\n",
       "      <td>11.255051</td>\n",
       "      <td>16.107748</td>\n",
       "      <td>308.753765</td>\n",
       "      <td>0</td>\n",
       "    </tr>\n",
       "    <tr>\n",
       "      <th>...</th>\n",
       "      <td>...</td>\n",
       "      <td>...</td>\n",
       "      <td>...</td>\n",
       "      <td>...</td>\n",
       "      <td>...</td>\n",
       "      <td>...</td>\n",
       "      <td>...</td>\n",
       "      <td>...</td>\n",
       "      <td>...</td>\n",
       "    </tr>\n",
       "    <tr>\n",
       "      <th>117559</th>\n",
       "      <td>132.843750</td>\n",
       "      <td>56.748838</td>\n",
       "      <td>-0.060070</td>\n",
       "      <td>-0.554084</td>\n",
       "      <td>4.054348</td>\n",
       "      <td>27.844144</td>\n",
       "      <td>6.564423</td>\n",
       "      <td>44.442664</td>\n",
       "      <td>0</td>\n",
       "    </tr>\n",
       "    <tr>\n",
       "      <th>117560</th>\n",
       "      <td>112.578125</td>\n",
       "      <td>52.539271</td>\n",
       "      <td>0.179580</td>\n",
       "      <td>-0.306961</td>\n",
       "      <td>1.637960</td>\n",
       "      <td>15.331913</td>\n",
       "      <td>11.384718</td>\n",
       "      <td>142.535470</td>\n",
       "      <td>0</td>\n",
       "    </tr>\n",
       "    <tr>\n",
       "      <th>117561</th>\n",
       "      <td>119.757812</td>\n",
       "      <td>49.980013</td>\n",
       "      <td>0.064402</td>\n",
       "      <td>-0.270822</td>\n",
       "      <td>3.877926</td>\n",
       "      <td>19.788559</td>\n",
       "      <td>6.959740</td>\n",
       "      <td>56.367789</td>\n",
       "      <td>0</td>\n",
       "    </tr>\n",
       "    <tr>\n",
       "      <th>117562</th>\n",
       "      <td>105.789062</td>\n",
       "      <td>46.986595</td>\n",
       "      <td>0.441426</td>\n",
       "      <td>0.372466</td>\n",
       "      <td>2.097826</td>\n",
       "      <td>17.170612</td>\n",
       "      <td>9.442445</td>\n",
       "      <td>99.074539</td>\n",
       "      <td>0</td>\n",
       "    </tr>\n",
       "    <tr>\n",
       "      <th>117563</th>\n",
       "      <td>113.515625</td>\n",
       "      <td>50.935956</td>\n",
       "      <td>0.031517</td>\n",
       "      <td>-0.443831</td>\n",
       "      <td>23.290970</td>\n",
       "      <td>62.006842</td>\n",
       "      <td>2.386364</td>\n",
       "      <td>4.001859</td>\n",
       "      <td>0</td>\n",
       "    </tr>\n",
       "  </tbody>\n",
       "</table>\n",
       "<p>117564 rows × 9 columns</p>\n",
       "</div>"
      ],
      "text/plain": [
       "        Mean_Integrated         SD        EK  Skewness  Mean_DMSNR_Curve  \\\n",
       "0            133.171875  59.716081  0.043133 -0.703383         54.917224   \n",
       "1             87.093750  36.257973  0.435469  2.266057          3.417224   \n",
       "2            112.640625  39.818393  0.379639  0.922306          2.730769   \n",
       "3            120.679688  45.918448 -0.098490  0.011775          2.696488   \n",
       "4            134.070312  57.720107 -0.107772 -0.573335          1.107860   \n",
       "...                 ...        ...       ...       ...               ...   \n",
       "117559       132.843750  56.748838 -0.060070 -0.554084          4.054348   \n",
       "117560       112.578125  52.539271  0.179580 -0.306961          1.637960   \n",
       "117561       119.757812  49.980013  0.064402 -0.270822          3.877926   \n",
       "117562       105.789062  46.986595  0.441426  0.372466          2.097826   \n",
       "117563       113.515625  50.935956  0.031517 -0.443831         23.290970   \n",
       "\n",
       "        SD_DMSNR_Curve  EK_DMSNR_Curve  Skewness_DMSNR_Curve  Class  \n",
       "0            70.084438        0.749798             -0.649512      0  \n",
       "1            21.865069        7.039330             52.686251      0  \n",
       "2            15.689690        8.193471             85.649785      0  \n",
       "3            20.954662        8.183874             70.332899      0  \n",
       "4            11.255051       16.107748            308.753765      0  \n",
       "...                ...             ...                   ...    ...  \n",
       "117559       27.844144        6.564423             44.442664      0  \n",
       "117560       15.331913       11.384718            142.535470      0  \n",
       "117561       19.788559        6.959740             56.367789      0  \n",
       "117562       17.170612        9.442445             99.074539      0  \n",
       "117563       62.006842        2.386364              4.001859      0  \n",
       "\n",
       "[117564 rows x 9 columns]"
      ]
     },
     "execution_count": 40,
     "metadata": {},
     "output_type": "execute_result"
    }
   ],
   "source": [
    "a"
   ]
  },
  {
   "cell_type": "code",
   "execution_count": 41,
   "metadata": {},
   "outputs": [
    {
     "data": {
      "text/html": [
       "<div>\n",
       "<style scoped>\n",
       "    .dataframe tbody tr th:only-of-type {\n",
       "        vertical-align: middle;\n",
       "    }\n",
       "\n",
       "    .dataframe tbody tr th {\n",
       "        vertical-align: top;\n",
       "    }\n",
       "\n",
       "    .dataframe thead th {\n",
       "        text-align: right;\n",
       "    }\n",
       "</style>\n",
       "<table border=\"1\" class=\"dataframe\">\n",
       "  <thead>\n",
       "    <tr style=\"text-align: right;\">\n",
       "      <th></th>\n",
       "      <th>Mean_Integrated</th>\n",
       "      <th>SD</th>\n",
       "      <th>EK</th>\n",
       "      <th>Skewness</th>\n",
       "      <th>Mean_DMSNR_Curve</th>\n",
       "      <th>SD_DMSNR_Curve</th>\n",
       "      <th>EK_DMSNR_Curve</th>\n",
       "      <th>Skewness_DMSNR_Curve</th>\n",
       "      <th>Class</th>\n",
       "    </tr>\n",
       "  </thead>\n",
       "  <tbody>\n",
       "    <tr>\n",
       "      <th>0</th>\n",
       "      <td>133.171875</td>\n",
       "      <td>59.716081</td>\n",
       "      <td>0.043133</td>\n",
       "      <td>-0.703383</td>\n",
       "      <td>54.917224</td>\n",
       "      <td>70.084438</td>\n",
       "      <td>0.749798</td>\n",
       "      <td>-0.649512</td>\n",
       "      <td>0</td>\n",
       "    </tr>\n",
       "    <tr>\n",
       "      <th>1</th>\n",
       "      <td>87.093750</td>\n",
       "      <td>36.257973</td>\n",
       "      <td>0.435469</td>\n",
       "      <td>2.266057</td>\n",
       "      <td>3.417224</td>\n",
       "      <td>21.865069</td>\n",
       "      <td>7.039330</td>\n",
       "      <td>52.686251</td>\n",
       "      <td>0</td>\n",
       "    </tr>\n",
       "    <tr>\n",
       "      <th>2</th>\n",
       "      <td>112.640625</td>\n",
       "      <td>39.818393</td>\n",
       "      <td>0.379639</td>\n",
       "      <td>0.922306</td>\n",
       "      <td>2.730769</td>\n",
       "      <td>15.689690</td>\n",
       "      <td>8.193471</td>\n",
       "      <td>85.649785</td>\n",
       "      <td>0</td>\n",
       "    </tr>\n",
       "    <tr>\n",
       "      <th>3</th>\n",
       "      <td>120.679688</td>\n",
       "      <td>45.918448</td>\n",
       "      <td>-0.098490</td>\n",
       "      <td>0.011775</td>\n",
       "      <td>2.696488</td>\n",
       "      <td>20.954662</td>\n",
       "      <td>8.183874</td>\n",
       "      <td>70.332899</td>\n",
       "      <td>0</td>\n",
       "    </tr>\n",
       "    <tr>\n",
       "      <th>4</th>\n",
       "      <td>134.070312</td>\n",
       "      <td>57.720107</td>\n",
       "      <td>-0.107772</td>\n",
       "      <td>-0.573335</td>\n",
       "      <td>1.107860</td>\n",
       "      <td>11.255051</td>\n",
       "      <td>16.107748</td>\n",
       "      <td>308.753765</td>\n",
       "      <td>0</td>\n",
       "    </tr>\n",
       "    <tr>\n",
       "      <th>...</th>\n",
       "      <td>...</td>\n",
       "      <td>...</td>\n",
       "      <td>...</td>\n",
       "      <td>...</td>\n",
       "      <td>...</td>\n",
       "      <td>...</td>\n",
       "      <td>...</td>\n",
       "      <td>...</td>\n",
       "      <td>...</td>\n",
       "    </tr>\n",
       "    <tr>\n",
       "      <th>117559</th>\n",
       "      <td>132.843750</td>\n",
       "      <td>56.748838</td>\n",
       "      <td>-0.060070</td>\n",
       "      <td>-0.554084</td>\n",
       "      <td>4.054348</td>\n",
       "      <td>27.844144</td>\n",
       "      <td>6.564423</td>\n",
       "      <td>44.442664</td>\n",
       "      <td>0</td>\n",
       "    </tr>\n",
       "    <tr>\n",
       "      <th>117560</th>\n",
       "      <td>112.578125</td>\n",
       "      <td>52.539271</td>\n",
       "      <td>0.179580</td>\n",
       "      <td>-0.306961</td>\n",
       "      <td>1.637960</td>\n",
       "      <td>15.331913</td>\n",
       "      <td>11.384718</td>\n",
       "      <td>142.535470</td>\n",
       "      <td>0</td>\n",
       "    </tr>\n",
       "    <tr>\n",
       "      <th>117561</th>\n",
       "      <td>119.757812</td>\n",
       "      <td>49.980013</td>\n",
       "      <td>0.064402</td>\n",
       "      <td>-0.270822</td>\n",
       "      <td>3.877926</td>\n",
       "      <td>19.788559</td>\n",
       "      <td>6.959740</td>\n",
       "      <td>56.367789</td>\n",
       "      <td>0</td>\n",
       "    </tr>\n",
       "    <tr>\n",
       "      <th>117562</th>\n",
       "      <td>105.789062</td>\n",
       "      <td>46.986595</td>\n",
       "      <td>0.441426</td>\n",
       "      <td>0.372466</td>\n",
       "      <td>2.097826</td>\n",
       "      <td>17.170612</td>\n",
       "      <td>9.442445</td>\n",
       "      <td>99.074539</td>\n",
       "      <td>0</td>\n",
       "    </tr>\n",
       "    <tr>\n",
       "      <th>117563</th>\n",
       "      <td>113.515625</td>\n",
       "      <td>50.935956</td>\n",
       "      <td>0.031517</td>\n",
       "      <td>-0.443831</td>\n",
       "      <td>23.290970</td>\n",
       "      <td>62.006842</td>\n",
       "      <td>2.386364</td>\n",
       "      <td>4.001859</td>\n",
       "      <td>0</td>\n",
       "    </tr>\n",
       "  </tbody>\n",
       "</table>\n",
       "<p>117564 rows × 9 columns</p>\n",
       "</div>"
      ],
      "text/plain": [
       "        Mean_Integrated         SD        EK  Skewness  Mean_DMSNR_Curve  \\\n",
       "0            133.171875  59.716081  0.043133 -0.703383         54.917224   \n",
       "1             87.093750  36.257973  0.435469  2.266057          3.417224   \n",
       "2            112.640625  39.818393  0.379639  0.922306          2.730769   \n",
       "3            120.679688  45.918448 -0.098490  0.011775          2.696488   \n",
       "4            134.070312  57.720107 -0.107772 -0.573335          1.107860   \n",
       "...                 ...        ...       ...       ...               ...   \n",
       "117559       132.843750  56.748838 -0.060070 -0.554084          4.054348   \n",
       "117560       112.578125  52.539271  0.179580 -0.306961          1.637960   \n",
       "117561       119.757812  49.980013  0.064402 -0.270822          3.877926   \n",
       "117562       105.789062  46.986595  0.441426  0.372466          2.097826   \n",
       "117563       113.515625  50.935956  0.031517 -0.443831         23.290970   \n",
       "\n",
       "        SD_DMSNR_Curve  EK_DMSNR_Curve  Skewness_DMSNR_Curve  Class  \n",
       "0            70.084438        0.749798             -0.649512      0  \n",
       "1            21.865069        7.039330             52.686251      0  \n",
       "2            15.689690        8.193471             85.649785      0  \n",
       "3            20.954662        8.183874             70.332899      0  \n",
       "4            11.255051       16.107748            308.753765      0  \n",
       "...                ...             ...                   ...    ...  \n",
       "117559       27.844144        6.564423             44.442664      0  \n",
       "117560       15.331913       11.384718            142.535470      0  \n",
       "117561       19.788559        6.959740             56.367789      0  \n",
       "117562       17.170612        9.442445             99.074539      0  \n",
       "117563       62.006842        2.386364              4.001859      0  \n",
       "\n",
       "[117564 rows x 9 columns]"
      ]
     },
     "execution_count": 41,
     "metadata": {},
     "output_type": "execute_result"
    }
   ],
   "source": [
    "df = df[ft]\n",
    "df"
   ]
  },
  {
   "cell_type": "code",
   "execution_count": 52,
   "metadata": {},
   "outputs": [],
   "source": [
    "from sklearn.model_selection import StratifiedShuffleSplit\n",
    "\n",
    "sss = StratifiedShuffleSplit(n_splits=1, test_size=0.1, random_state=42)\n",
    "\n",
    "for train_index,test_index in sss.split(df,df['Class']):\n",
    "    strat_train_set = df.loc[train_index]\n",
    "    strat_test_set = df.loc[test_index]"
   ]
  },
  {
   "cell_type": "code",
   "execution_count": 53,
   "metadata": {},
   "outputs": [
    {
     "data": {
      "text/html": [
       "<div>\n",
       "<style scoped>\n",
       "    .dataframe tbody tr th:only-of-type {\n",
       "        vertical-align: middle;\n",
       "    }\n",
       "\n",
       "    .dataframe tbody tr th {\n",
       "        vertical-align: top;\n",
       "    }\n",
       "\n",
       "    .dataframe thead th {\n",
       "        text-align: right;\n",
       "    }\n",
       "</style>\n",
       "<table border=\"1\" class=\"dataframe\">\n",
       "  <thead>\n",
       "    <tr style=\"text-align: right;\">\n",
       "      <th></th>\n",
       "      <th>Mean_Integrated</th>\n",
       "      <th>SD</th>\n",
       "      <th>EK</th>\n",
       "      <th>Skewness</th>\n",
       "      <th>Mean_DMSNR_Curve</th>\n",
       "      <th>SD_DMSNR_Curve</th>\n",
       "      <th>EK_DMSNR_Curve</th>\n",
       "      <th>Skewness_DMSNR_Curve</th>\n",
       "      <th>Class</th>\n",
       "    </tr>\n",
       "  </thead>\n",
       "  <tbody>\n",
       "    <tr>\n",
       "      <th>3092</th>\n",
       "      <td>50.085938</td>\n",
       "      <td>31.711644</td>\n",
       "      <td>2.933663</td>\n",
       "      <td>17.262631</td>\n",
       "      <td>37.221572</td>\n",
       "      <td>65.845159</td>\n",
       "      <td>1.735180</td>\n",
       "      <td>1.956476</td>\n",
       "      <td>1</td>\n",
       "    </tr>\n",
       "    <tr>\n",
       "      <th>17142</th>\n",
       "      <td>126.953125</td>\n",
       "      <td>47.962886</td>\n",
       "      <td>0.069867</td>\n",
       "      <td>-0.010815</td>\n",
       "      <td>1.354515</td>\n",
       "      <td>10.362383</td>\n",
       "      <td>15.232491</td>\n",
       "      <td>307.749271</td>\n",
       "      <td>0</td>\n",
       "    </tr>\n",
       "    <tr>\n",
       "      <th>116227</th>\n",
       "      <td>125.359375</td>\n",
       "      <td>45.566898</td>\n",
       "      <td>-0.098536</td>\n",
       "      <td>0.366824</td>\n",
       "      <td>3.801839</td>\n",
       "      <td>25.738458</td>\n",
       "      <td>7.810015</td>\n",
       "      <td>62.912358</td>\n",
       "      <td>0</td>\n",
       "    </tr>\n",
       "    <tr>\n",
       "      <th>60029</th>\n",
       "      <td>97.992188</td>\n",
       "      <td>41.890317</td>\n",
       "      <td>0.457329</td>\n",
       "      <td>1.043680</td>\n",
       "      <td>2.158027</td>\n",
       "      <td>17.897531</td>\n",
       "      <td>9.430141</td>\n",
       "      <td>100.257429</td>\n",
       "      <td>0</td>\n",
       "    </tr>\n",
       "    <tr>\n",
       "      <th>20966</th>\n",
       "      <td>107.132812</td>\n",
       "      <td>41.846006</td>\n",
       "      <td>0.255739</td>\n",
       "      <td>0.569564</td>\n",
       "      <td>2.153010</td>\n",
       "      <td>17.454589</td>\n",
       "      <td>9.777959</td>\n",
       "      <td>105.363261</td>\n",
       "      <td>0</td>\n",
       "    </tr>\n",
       "    <tr>\n",
       "      <th>...</th>\n",
       "      <td>...</td>\n",
       "      <td>...</td>\n",
       "      <td>...</td>\n",
       "      <td>...</td>\n",
       "      <td>...</td>\n",
       "      <td>...</td>\n",
       "      <td>...</td>\n",
       "      <td>...</td>\n",
       "      <td>...</td>\n",
       "    </tr>\n",
       "    <tr>\n",
       "      <th>427</th>\n",
       "      <td>128.828125</td>\n",
       "      <td>51.078943</td>\n",
       "      <td>-0.044618</td>\n",
       "      <td>-0.125946</td>\n",
       "      <td>2.771739</td>\n",
       "      <td>16.183736</td>\n",
       "      <td>8.986482</td>\n",
       "      <td>95.093257</td>\n",
       "      <td>0</td>\n",
       "    </tr>\n",
       "    <tr>\n",
       "      <th>542</th>\n",
       "      <td>134.960938</td>\n",
       "      <td>48.381898</td>\n",
       "      <td>-0.144957</td>\n",
       "      <td>-0.060215</td>\n",
       "      <td>115.790970</td>\n",
       "      <td>96.550748</td>\n",
       "      <td>-0.481317</td>\n",
       "      <td>-1.681597</td>\n",
       "      <td>0</td>\n",
       "    </tr>\n",
       "    <tr>\n",
       "      <th>95899</th>\n",
       "      <td>98.562500</td>\n",
       "      <td>40.789544</td>\n",
       "      <td>0.701411</td>\n",
       "      <td>1.355573</td>\n",
       "      <td>2.660535</td>\n",
       "      <td>18.126257</td>\n",
       "      <td>8.578909</td>\n",
       "      <td>85.804845</td>\n",
       "      <td>0</td>\n",
       "    </tr>\n",
       "    <tr>\n",
       "      <th>40878</th>\n",
       "      <td>92.750000</td>\n",
       "      <td>41.991767</td>\n",
       "      <td>0.737211</td>\n",
       "      <td>1.624838</td>\n",
       "      <td>2.964883</td>\n",
       "      <td>16.684993</td>\n",
       "      <td>8.038275</td>\n",
       "      <td>83.738159</td>\n",
       "      <td>0</td>\n",
       "    </tr>\n",
       "    <tr>\n",
       "      <th>62260</th>\n",
       "      <td>46.570312</td>\n",
       "      <td>37.092209</td>\n",
       "      <td>3.255719</td>\n",
       "      <td>13.586891</td>\n",
       "      <td>20.753344</td>\n",
       "      <td>55.179492</td>\n",
       "      <td>2.735139</td>\n",
       "      <td>6.062639</td>\n",
       "      <td>1</td>\n",
       "    </tr>\n",
       "  </tbody>\n",
       "</table>\n",
       "<p>105807 rows × 9 columns</p>\n",
       "</div>"
      ],
      "text/plain": [
       "        Mean_Integrated         SD        EK   Skewness  Mean_DMSNR_Curve  \\\n",
       "3092          50.085938  31.711644  2.933663  17.262631         37.221572   \n",
       "17142        126.953125  47.962886  0.069867  -0.010815          1.354515   \n",
       "116227       125.359375  45.566898 -0.098536   0.366824          3.801839   \n",
       "60029         97.992188  41.890317  0.457329   1.043680          2.158027   \n",
       "20966        107.132812  41.846006  0.255739   0.569564          2.153010   \n",
       "...                 ...        ...       ...        ...               ...   \n",
       "427          128.828125  51.078943 -0.044618  -0.125946          2.771739   \n",
       "542          134.960938  48.381898 -0.144957  -0.060215        115.790970   \n",
       "95899         98.562500  40.789544  0.701411   1.355573          2.660535   \n",
       "40878         92.750000  41.991767  0.737211   1.624838          2.964883   \n",
       "62260         46.570312  37.092209  3.255719  13.586891         20.753344   \n",
       "\n",
       "        SD_DMSNR_Curve  EK_DMSNR_Curve  Skewness_DMSNR_Curve  Class  \n",
       "3092         65.845159        1.735180              1.956476      1  \n",
       "17142        10.362383       15.232491            307.749271      0  \n",
       "116227       25.738458        7.810015             62.912358      0  \n",
       "60029        17.897531        9.430141            100.257429      0  \n",
       "20966        17.454589        9.777959            105.363261      0  \n",
       "...                ...             ...                   ...    ...  \n",
       "427          16.183736        8.986482             95.093257      0  \n",
       "542          96.550748       -0.481317             -1.681597      0  \n",
       "95899        18.126257        8.578909             85.804845      0  \n",
       "40878        16.684993        8.038275             83.738159      0  \n",
       "62260        55.179492        2.735139              6.062639      1  \n",
       "\n",
       "[105807 rows x 9 columns]"
      ]
     },
     "execution_count": 53,
     "metadata": {},
     "output_type": "execute_result"
    }
   ],
   "source": [
    "strat_train_set"
   ]
  },
  {
   "cell_type": "code",
   "execution_count": 54,
   "metadata": {},
   "outputs": [
    {
     "data": {
      "text/html": [
       "<div>\n",
       "<style scoped>\n",
       "    .dataframe tbody tr th:only-of-type {\n",
       "        vertical-align: middle;\n",
       "    }\n",
       "\n",
       "    .dataframe tbody tr th {\n",
       "        vertical-align: top;\n",
       "    }\n",
       "\n",
       "    .dataframe thead th {\n",
       "        text-align: right;\n",
       "    }\n",
       "</style>\n",
       "<table border=\"1\" class=\"dataframe\">\n",
       "  <thead>\n",
       "    <tr style=\"text-align: right;\">\n",
       "      <th></th>\n",
       "      <th>Mean_Integrated</th>\n",
       "      <th>SD</th>\n",
       "      <th>EK</th>\n",
       "      <th>Skewness</th>\n",
       "      <th>Mean_DMSNR_Curve</th>\n",
       "      <th>SD_DMSNR_Curve</th>\n",
       "      <th>EK_DMSNR_Curve</th>\n",
       "      <th>Skewness_DMSNR_Curve</th>\n",
       "      <th>Class</th>\n",
       "    </tr>\n",
       "  </thead>\n",
       "  <tbody>\n",
       "    <tr>\n",
       "      <th>93321</th>\n",
       "      <td>108.914062</td>\n",
       "      <td>46.064641</td>\n",
       "      <td>0.361711</td>\n",
       "      <td>0.103470</td>\n",
       "      <td>1.818562</td>\n",
       "      <td>14.854456</td>\n",
       "      <td>10.954094</td>\n",
       "      <td>135.076403</td>\n",
       "      <td>0</td>\n",
       "    </tr>\n",
       "    <tr>\n",
       "      <th>110744</th>\n",
       "      <td>126.828125</td>\n",
       "      <td>52.273362</td>\n",
       "      <td>0.093847</td>\n",
       "      <td>-0.095198</td>\n",
       "      <td>1.661371</td>\n",
       "      <td>16.743136</td>\n",
       "      <td>11.441576</td>\n",
       "      <td>143.347897</td>\n",
       "      <td>0</td>\n",
       "    </tr>\n",
       "    <tr>\n",
       "      <th>61258</th>\n",
       "      <td>103.945312</td>\n",
       "      <td>49.873227</td>\n",
       "      <td>0.362941</td>\n",
       "      <td>0.123435</td>\n",
       "      <td>1.947324</td>\n",
       "      <td>18.622362</td>\n",
       "      <td>10.463164</td>\n",
       "      <td>116.962242</td>\n",
       "      <td>0</td>\n",
       "    </tr>\n",
       "    <tr>\n",
       "      <th>40679</th>\n",
       "      <td>117.914062</td>\n",
       "      <td>45.935938</td>\n",
       "      <td>0.167828</td>\n",
       "      <td>0.171523</td>\n",
       "      <td>1.088629</td>\n",
       "      <td>11.356672</td>\n",
       "      <td>14.840627</td>\n",
       "      <td>262.506793</td>\n",
       "      <td>0</td>\n",
       "    </tr>\n",
       "    <tr>\n",
       "      <th>97080</th>\n",
       "      <td>133.671875</td>\n",
       "      <td>51.171338</td>\n",
       "      <td>-0.064066</td>\n",
       "      <td>-0.359931</td>\n",
       "      <td>3.728261</td>\n",
       "      <td>24.391852</td>\n",
       "      <td>7.304675</td>\n",
       "      <td>55.805042</td>\n",
       "      <td>0</td>\n",
       "    </tr>\n",
       "    <tr>\n",
       "      <th>...</th>\n",
       "      <td>...</td>\n",
       "      <td>...</td>\n",
       "      <td>...</td>\n",
       "      <td>...</td>\n",
       "      <td>...</td>\n",
       "      <td>...</td>\n",
       "      <td>...</td>\n",
       "      <td>...</td>\n",
       "      <td>...</td>\n",
       "    </tr>\n",
       "    <tr>\n",
       "      <th>55092</th>\n",
       "      <td>105.039062</td>\n",
       "      <td>49.826221</td>\n",
       "      <td>0.434825</td>\n",
       "      <td>0.084100</td>\n",
       "      <td>3.859532</td>\n",
       "      <td>21.001207</td>\n",
       "      <td>6.654853</td>\n",
       "      <td>50.696445</td>\n",
       "      <td>0</td>\n",
       "    </tr>\n",
       "    <tr>\n",
       "      <th>36197</th>\n",
       "      <td>131.093750</td>\n",
       "      <td>47.907414</td>\n",
       "      <td>-0.016535</td>\n",
       "      <td>-0.097811</td>\n",
       "      <td>2.012542</td>\n",
       "      <td>16.520122</td>\n",
       "      <td>11.245735</td>\n",
       "      <td>140.782455</td>\n",
       "      <td>0</td>\n",
       "    </tr>\n",
       "    <tr>\n",
       "      <th>41098</th>\n",
       "      <td>107.054688</td>\n",
       "      <td>48.222916</td>\n",
       "      <td>0.339626</td>\n",
       "      <td>0.387984</td>\n",
       "      <td>3.184783</td>\n",
       "      <td>18.746382</td>\n",
       "      <td>7.908775</td>\n",
       "      <td>73.388038</td>\n",
       "      <td>0</td>\n",
       "    </tr>\n",
       "    <tr>\n",
       "      <th>90579</th>\n",
       "      <td>8.843750</td>\n",
       "      <td>31.270586</td>\n",
       "      <td>6.325521</td>\n",
       "      <td>41.914192</td>\n",
       "      <td>109.183110</td>\n",
       "      <td>78.528624</td>\n",
       "      <td>0.095444</td>\n",
       "      <td>-0.977318</td>\n",
       "      <td>1</td>\n",
       "    </tr>\n",
       "    <tr>\n",
       "      <th>38676</th>\n",
       "      <td>123.054688</td>\n",
       "      <td>47.954566</td>\n",
       "      <td>0.126098</td>\n",
       "      <td>-0.008651</td>\n",
       "      <td>2.364548</td>\n",
       "      <td>16.790192</td>\n",
       "      <td>9.408318</td>\n",
       "      <td>105.246478</td>\n",
       "      <td>0</td>\n",
       "    </tr>\n",
       "  </tbody>\n",
       "</table>\n",
       "<p>11757 rows × 9 columns</p>\n",
       "</div>"
      ],
      "text/plain": [
       "        Mean_Integrated         SD        EK   Skewness  Mean_DMSNR_Curve  \\\n",
       "93321        108.914062  46.064641  0.361711   0.103470          1.818562   \n",
       "110744       126.828125  52.273362  0.093847  -0.095198          1.661371   \n",
       "61258        103.945312  49.873227  0.362941   0.123435          1.947324   \n",
       "40679        117.914062  45.935938  0.167828   0.171523          1.088629   \n",
       "97080        133.671875  51.171338 -0.064066  -0.359931          3.728261   \n",
       "...                 ...        ...       ...        ...               ...   \n",
       "55092        105.039062  49.826221  0.434825   0.084100          3.859532   \n",
       "36197        131.093750  47.907414 -0.016535  -0.097811          2.012542   \n",
       "41098        107.054688  48.222916  0.339626   0.387984          3.184783   \n",
       "90579          8.843750  31.270586  6.325521  41.914192        109.183110   \n",
       "38676        123.054688  47.954566  0.126098  -0.008651          2.364548   \n",
       "\n",
       "        SD_DMSNR_Curve  EK_DMSNR_Curve  Skewness_DMSNR_Curve  Class  \n",
       "93321        14.854456       10.954094            135.076403      0  \n",
       "110744       16.743136       11.441576            143.347897      0  \n",
       "61258        18.622362       10.463164            116.962242      0  \n",
       "40679        11.356672       14.840627            262.506793      0  \n",
       "97080        24.391852        7.304675             55.805042      0  \n",
       "...                ...             ...                   ...    ...  \n",
       "55092        21.001207        6.654853             50.696445      0  \n",
       "36197        16.520122       11.245735            140.782455      0  \n",
       "41098        18.746382        7.908775             73.388038      0  \n",
       "90579        78.528624        0.095444             -0.977318      1  \n",
       "38676        16.790192        9.408318            105.246478      0  \n",
       "\n",
       "[11757 rows x 9 columns]"
      ]
     },
     "execution_count": 54,
     "metadata": {},
     "output_type": "execute_result"
    }
   ],
   "source": [
    "strat_test_set"
   ]
  },
  {
   "cell_type": "code",
   "execution_count": 55,
   "metadata": {},
   "outputs": [
    {
     "data": {
      "text/plain": [
       "Class\n",
       "0    10660\n",
       "1     1097\n",
       "Name: count, dtype: int64"
      ]
     },
     "execution_count": 55,
     "metadata": {},
     "output_type": "execute_result"
    }
   ],
   "source": [
    "strat_test_set['Class'].value_counts()"
   ]
  },
  {
   "cell_type": "code",
   "execution_count": 56,
   "metadata": {},
   "outputs": [
    {
     "data": {
      "text/plain": [
       "Class\n",
       "0    106597\n",
       "1     10967\n",
       "Name: count, dtype: int64"
      ]
     },
     "execution_count": 56,
     "metadata": {},
     "output_type": "execute_result"
    }
   ],
   "source": [
    "df['Class'].value_counts()"
   ]
  },
  {
   "cell_type": "code",
   "execution_count": 57,
   "metadata": {},
   "outputs": [
    {
     "data": {
      "text/plain": [
       "0.10000281433811459"
      ]
     },
     "execution_count": 57,
     "metadata": {},
     "output_type": "execute_result"
    }
   ],
   "source": [
    "10660/106597"
   ]
  },
  {
   "cell_type": "code",
   "execution_count": 58,
   "metadata": {},
   "outputs": [
    {
     "data": {
      "text/plain": [
       "0.10002735479164768"
      ]
     },
     "execution_count": 58,
     "metadata": {},
     "output_type": "execute_result"
    }
   ],
   "source": [
    "1097/10967"
   ]
  },
  {
   "cell_type": "code",
   "execution_count": 59,
   "metadata": {},
   "outputs": [
    {
     "data": {
      "text/plain": [
       "'Class'"
      ]
     },
     "execution_count": 59,
     "metadata": {},
     "output_type": "execute_result"
    }
   ],
   "source": [
    "schema.target_column"
   ]
  },
  {
   "cell_type": "code",
   "execution_count": 22,
   "metadata": {},
   "outputs": [
    {
     "name": "stdout",
     "output_type": "stream",
     "text": [
      "[02-09-2023 17:09:31: INFO: common:  yaml file from this path G:\\success_analytics_courses\\internship_project\\pulsar_project\\config\\params.yaml read succesfully]\n"
     ]
    },
    {
     "data": {
      "text/plain": [
       "ConfigBox({'model_selection': {'module_0': {'classifier': 'LGBMClassifier', 'module': 'lightgbm', 'params': {'n_estimators': 100, 'random_state': 0}}, 'module_1': {'classifier': 'XGBClassifier', 'module': 'xgboost', 'params': {'n_estimators': 50, 'random_state': 0}}}})"
      ]
     },
     "execution_count": 22,
     "metadata": {},
     "output_type": "execute_result"
    }
   ],
   "source": [
    "from pulsarclassification.utils.common import read_yaml,create_directories,get_file_size\n",
    "model_param = read_yaml(\"G:\\\\success_analytics_courses\\\\internship_project\\\\pulsar_project\\\\config\\\\params.yaml\")\n",
    "model_param"
   ]
  },
  {
   "cell_type": "code",
   "execution_count": 5,
   "metadata": {},
   "outputs": [
    {
     "data": {
      "text/plain": [
       "ConfigBox({'module_0': {'classifier': 'LGBMClassifier', 'module': 'lightgbm', 'params': {'n_estimators': 100, 'random_state': 0}}, 'module_1': {'classifier': 'XGBClassifier', 'module': 'xgboost', 'params': {'n_estimators': 50, 'random_state': 0}}})"
      ]
     },
     "execution_count": 5,
     "metadata": {},
     "output_type": "execute_result"
    }
   ],
   "source": [
    "model_param.model_selection"
   ]
  },
  {
   "cell_type": "code",
   "execution_count": 6,
   "metadata": {},
   "outputs": [
    {
     "data": {
      "text/plain": [
       "ConfigBox({'classifier': 'LGBMClassifier', 'module': 'lightgbm', 'params': {'n_estimators': 100, 'random_state': 0}})"
      ]
     },
     "execution_count": 6,
     "metadata": {},
     "output_type": "execute_result"
    }
   ],
   "source": [
    "model_param.model_selection.module_0"
   ]
  },
  {
   "cell_type": "code",
   "execution_count": 8,
   "metadata": {},
   "outputs": [
    {
     "data": {
      "text/plain": [
       "str"
      ]
     },
     "execution_count": 8,
     "metadata": {},
     "output_type": "execute_result"
    }
   ],
   "source": [
    "type(model_param.model_selection.module_0.module)"
   ]
  },
  {
   "cell_type": "code",
   "execution_count": 2,
   "metadata": {},
   "outputs": [],
   "source": [
    "import importlib"
   ]
  },
  {
   "cell_type": "code",
   "execution_count": 6,
   "metadata": {},
   "outputs": [
    {
     "data": {
      "text/plain": [
       "'g:\\\\success_analytics_courses\\\\internship_project\\\\pulsar_project'"
      ]
     },
     "execution_count": 6,
     "metadata": {},
     "output_type": "execute_result"
    }
   ],
   "source": [
    "%pwd\n",
    "os.chdir(\"../\")\n",
    "%pwd"
   ]
  },
  {
   "cell_type": "code",
   "execution_count": 5,
   "metadata": {},
   "outputs": [
    {
     "data": {
      "text/plain": [
       "'g:\\\\success_analytics_courses\\\\internship_project\\\\pulsar_project\\\\research'"
      ]
     },
     "execution_count": 5,
     "metadata": {},
     "output_type": "execute_result"
    }
   ],
   "source": [
    "import os\n",
    "os.getcwd()"
   ]
  },
  {
   "cell_type": "code",
   "execution_count": 9,
   "metadata": {},
   "outputs": [
    {
     "data": {
      "text/plain": [
       "('g:\\\\success_analytics_courses\\\\internship_project\\\\pulsar_project\\\\config\\\\config.yaml',\n",
       " 'g:\\\\success_analytics_courses\\\\internship_project\\\\pulsar_project\\\\config\\\\schema.yaml',\n",
       " 'g:\\\\success_analytics_courses\\\\internship_project\\\\pulsar_project\\\\config\\\\params.yaml')"
      ]
     },
     "execution_count": 9,
     "metadata": {},
     "output_type": "execute_result"
    }
   ],
   "source": [
    "from pulsarclassification.constants import *\n",
    "CONFIG_FILE_PATH,SCHEMA_FILE_PATH,MODEL_PARAMETER_FILE_PATH"
   ]
  },
  {
   "cell_type": "code",
   "execution_count": 1,
   "metadata": {},
   "outputs": [
    {
     "name": "stdout",
     "output_type": "stream",
     "text": [
      "-----------------------------------------------------\n",
      "-----------------------------------------------------\n"
     ]
    }
   ],
   "source": [
    "print(\"-----------------------------------------------------\")\n",
    "print(\"-----------------------------------------------------\")"
   ]
  },
  {
   "cell_type": "code",
   "execution_count": 7,
   "metadata": {},
   "outputs": [],
   "source": [
    "import pandas as pd\n",
    "df = pd.read_csv(\"artifacts\\\\data_transformation\\\\training_data_for_model\\\\pulsar_train_data.csv\")"
   ]
  },
  {
   "cell_type": "code",
   "execution_count": 8,
   "metadata": {},
   "outputs": [
    {
     "data": {
      "text/html": [
       "<div>\n",
       "<style scoped>\n",
       "    .dataframe tbody tr th:only-of-type {\n",
       "        vertical-align: middle;\n",
       "    }\n",
       "\n",
       "    .dataframe tbody tr th {\n",
       "        vertical-align: top;\n",
       "    }\n",
       "\n",
       "    .dataframe thead th {\n",
       "        text-align: right;\n",
       "    }\n",
       "</style>\n",
       "<table border=\"1\" class=\"dataframe\">\n",
       "  <thead>\n",
       "    <tr style=\"text-align: right;\">\n",
       "      <th></th>\n",
       "      <th>Mean_Integrated</th>\n",
       "      <th>SD</th>\n",
       "      <th>EK</th>\n",
       "      <th>Skewness</th>\n",
       "      <th>Mean_DMSNR_Curve</th>\n",
       "      <th>SD_DMSNR_Curve</th>\n",
       "      <th>EK_DMSNR_Curve</th>\n",
       "      <th>Skewness_DMSNR_Curve</th>\n",
       "      <th>Class</th>\n",
       "    </tr>\n",
       "  </thead>\n",
       "  <tbody>\n",
       "    <tr>\n",
       "      <th>0</th>\n",
       "      <td>50.085938</td>\n",
       "      <td>31.711644</td>\n",
       "      <td>2.933663</td>\n",
       "      <td>17.262631</td>\n",
       "      <td>37.221572</td>\n",
       "      <td>65.845159</td>\n",
       "      <td>1.735180</td>\n",
       "      <td>1.956476</td>\n",
       "      <td>1</td>\n",
       "    </tr>\n",
       "    <tr>\n",
       "      <th>1</th>\n",
       "      <td>126.953125</td>\n",
       "      <td>47.962886</td>\n",
       "      <td>0.069867</td>\n",
       "      <td>-0.010815</td>\n",
       "      <td>1.354515</td>\n",
       "      <td>10.362383</td>\n",
       "      <td>15.232491</td>\n",
       "      <td>307.749271</td>\n",
       "      <td>0</td>\n",
       "    </tr>\n",
       "    <tr>\n",
       "      <th>2</th>\n",
       "      <td>125.359375</td>\n",
       "      <td>45.566898</td>\n",
       "      <td>-0.098536</td>\n",
       "      <td>0.366824</td>\n",
       "      <td>3.801839</td>\n",
       "      <td>25.738458</td>\n",
       "      <td>7.810015</td>\n",
       "      <td>62.912358</td>\n",
       "      <td>0</td>\n",
       "    </tr>\n",
       "    <tr>\n",
       "      <th>3</th>\n",
       "      <td>97.992188</td>\n",
       "      <td>41.890317</td>\n",
       "      <td>0.457329</td>\n",
       "      <td>1.043680</td>\n",
       "      <td>2.158027</td>\n",
       "      <td>17.897531</td>\n",
       "      <td>9.430141</td>\n",
       "      <td>100.257429</td>\n",
       "      <td>0</td>\n",
       "    </tr>\n",
       "    <tr>\n",
       "      <th>4</th>\n",
       "      <td>107.132812</td>\n",
       "      <td>41.846006</td>\n",
       "      <td>0.255739</td>\n",
       "      <td>0.569564</td>\n",
       "      <td>2.153010</td>\n",
       "      <td>17.454589</td>\n",
       "      <td>9.777959</td>\n",
       "      <td>105.363261</td>\n",
       "      <td>0</td>\n",
       "    </tr>\n",
       "    <tr>\n",
       "      <th>...</th>\n",
       "      <td>...</td>\n",
       "      <td>...</td>\n",
       "      <td>...</td>\n",
       "      <td>...</td>\n",
       "      <td>...</td>\n",
       "      <td>...</td>\n",
       "      <td>...</td>\n",
       "      <td>...</td>\n",
       "      <td>...</td>\n",
       "    </tr>\n",
       "    <tr>\n",
       "      <th>105802</th>\n",
       "      <td>128.828125</td>\n",
       "      <td>51.078943</td>\n",
       "      <td>-0.044618</td>\n",
       "      <td>-0.125946</td>\n",
       "      <td>2.771739</td>\n",
       "      <td>16.183736</td>\n",
       "      <td>8.986482</td>\n",
       "      <td>95.093257</td>\n",
       "      <td>0</td>\n",
       "    </tr>\n",
       "    <tr>\n",
       "      <th>105803</th>\n",
       "      <td>134.960938</td>\n",
       "      <td>48.381898</td>\n",
       "      <td>-0.144957</td>\n",
       "      <td>-0.060215</td>\n",
       "      <td>115.790970</td>\n",
       "      <td>96.550748</td>\n",
       "      <td>-0.481317</td>\n",
       "      <td>-1.681597</td>\n",
       "      <td>0</td>\n",
       "    </tr>\n",
       "    <tr>\n",
       "      <th>105804</th>\n",
       "      <td>98.562500</td>\n",
       "      <td>40.789544</td>\n",
       "      <td>0.701411</td>\n",
       "      <td>1.355573</td>\n",
       "      <td>2.660535</td>\n",
       "      <td>18.126257</td>\n",
       "      <td>8.578909</td>\n",
       "      <td>85.804845</td>\n",
       "      <td>0</td>\n",
       "    </tr>\n",
       "    <tr>\n",
       "      <th>105805</th>\n",
       "      <td>92.750000</td>\n",
       "      <td>41.991767</td>\n",
       "      <td>0.737211</td>\n",
       "      <td>1.624838</td>\n",
       "      <td>2.964883</td>\n",
       "      <td>16.684993</td>\n",
       "      <td>8.038275</td>\n",
       "      <td>83.738159</td>\n",
       "      <td>0</td>\n",
       "    </tr>\n",
       "    <tr>\n",
       "      <th>105806</th>\n",
       "      <td>46.570312</td>\n",
       "      <td>37.092209</td>\n",
       "      <td>3.255719</td>\n",
       "      <td>13.586891</td>\n",
       "      <td>20.753344</td>\n",
       "      <td>55.179492</td>\n",
       "      <td>2.735139</td>\n",
       "      <td>6.062639</td>\n",
       "      <td>1</td>\n",
       "    </tr>\n",
       "  </tbody>\n",
       "</table>\n",
       "<p>105807 rows × 9 columns</p>\n",
       "</div>"
      ],
      "text/plain": [
       "        Mean_Integrated         SD        EK   Skewness  Mean_DMSNR_Curve  \\\n",
       "0             50.085938  31.711644  2.933663  17.262631         37.221572   \n",
       "1            126.953125  47.962886  0.069867  -0.010815          1.354515   \n",
       "2            125.359375  45.566898 -0.098536   0.366824          3.801839   \n",
       "3             97.992188  41.890317  0.457329   1.043680          2.158027   \n",
       "4            107.132812  41.846006  0.255739   0.569564          2.153010   \n",
       "...                 ...        ...       ...        ...               ...   \n",
       "105802       128.828125  51.078943 -0.044618  -0.125946          2.771739   \n",
       "105803       134.960938  48.381898 -0.144957  -0.060215        115.790970   \n",
       "105804        98.562500  40.789544  0.701411   1.355573          2.660535   \n",
       "105805        92.750000  41.991767  0.737211   1.624838          2.964883   \n",
       "105806        46.570312  37.092209  3.255719  13.586891         20.753344   \n",
       "\n",
       "        SD_DMSNR_Curve  EK_DMSNR_Curve  Skewness_DMSNR_Curve  Class  \n",
       "0            65.845159        1.735180              1.956476      1  \n",
       "1            10.362383       15.232491            307.749271      0  \n",
       "2            25.738458        7.810015             62.912358      0  \n",
       "3            17.897531        9.430141            100.257429      0  \n",
       "4            17.454589        9.777959            105.363261      0  \n",
       "...                ...             ...                   ...    ...  \n",
       "105802       16.183736        8.986482             95.093257      0  \n",
       "105803       96.550748       -0.481317             -1.681597      0  \n",
       "105804       18.126257        8.578909             85.804845      0  \n",
       "105805       16.684993        8.038275             83.738159      0  \n",
       "105806       55.179492        2.735139              6.062639      1  \n",
       "\n",
       "[105807 rows x 9 columns]"
      ]
     },
     "execution_count": 8,
     "metadata": {},
     "output_type": "execute_result"
    }
   ],
   "source": [
    "df"
   ]
  },
  {
   "cell_type": "code",
   "execution_count": 14,
   "metadata": {},
   "outputs": [],
   "source": [
    "iff1 = df.drop('Class',axis=1)"
   ]
  },
  {
   "cell_type": "code",
   "execution_count": 15,
   "metadata": {},
   "outputs": [
    {
     "data": {
      "text/html": [
       "<div>\n",
       "<style scoped>\n",
       "    .dataframe tbody tr th:only-of-type {\n",
       "        vertical-align: middle;\n",
       "    }\n",
       "\n",
       "    .dataframe tbody tr th {\n",
       "        vertical-align: top;\n",
       "    }\n",
       "\n",
       "    .dataframe thead th {\n",
       "        text-align: right;\n",
       "    }\n",
       "</style>\n",
       "<table border=\"1\" class=\"dataframe\">\n",
       "  <thead>\n",
       "    <tr style=\"text-align: right;\">\n",
       "      <th></th>\n",
       "      <th>Mean_Integrated</th>\n",
       "      <th>SD</th>\n",
       "      <th>EK</th>\n",
       "      <th>Skewness</th>\n",
       "      <th>Mean_DMSNR_Curve</th>\n",
       "      <th>SD_DMSNR_Curve</th>\n",
       "      <th>EK_DMSNR_Curve</th>\n",
       "      <th>Skewness_DMSNR_Curve</th>\n",
       "    </tr>\n",
       "  </thead>\n",
       "  <tbody>\n",
       "    <tr>\n",
       "      <th>0</th>\n",
       "      <td>50.085938</td>\n",
       "      <td>31.711644</td>\n",
       "      <td>2.933663</td>\n",
       "      <td>17.262631</td>\n",
       "      <td>37.221572</td>\n",
       "      <td>65.845159</td>\n",
       "      <td>1.735180</td>\n",
       "      <td>1.956476</td>\n",
       "    </tr>\n",
       "    <tr>\n",
       "      <th>1</th>\n",
       "      <td>126.953125</td>\n",
       "      <td>47.962886</td>\n",
       "      <td>0.069867</td>\n",
       "      <td>-0.010815</td>\n",
       "      <td>1.354515</td>\n",
       "      <td>10.362383</td>\n",
       "      <td>15.232491</td>\n",
       "      <td>307.749271</td>\n",
       "    </tr>\n",
       "    <tr>\n",
       "      <th>2</th>\n",
       "      <td>125.359375</td>\n",
       "      <td>45.566898</td>\n",
       "      <td>-0.098536</td>\n",
       "      <td>0.366824</td>\n",
       "      <td>3.801839</td>\n",
       "      <td>25.738458</td>\n",
       "      <td>7.810015</td>\n",
       "      <td>62.912358</td>\n",
       "    </tr>\n",
       "    <tr>\n",
       "      <th>3</th>\n",
       "      <td>97.992188</td>\n",
       "      <td>41.890317</td>\n",
       "      <td>0.457329</td>\n",
       "      <td>1.043680</td>\n",
       "      <td>2.158027</td>\n",
       "      <td>17.897531</td>\n",
       "      <td>9.430141</td>\n",
       "      <td>100.257429</td>\n",
       "    </tr>\n",
       "    <tr>\n",
       "      <th>4</th>\n",
       "      <td>107.132812</td>\n",
       "      <td>41.846006</td>\n",
       "      <td>0.255739</td>\n",
       "      <td>0.569564</td>\n",
       "      <td>2.153010</td>\n",
       "      <td>17.454589</td>\n",
       "      <td>9.777959</td>\n",
       "      <td>105.363261</td>\n",
       "    </tr>\n",
       "    <tr>\n",
       "      <th>...</th>\n",
       "      <td>...</td>\n",
       "      <td>...</td>\n",
       "      <td>...</td>\n",
       "      <td>...</td>\n",
       "      <td>...</td>\n",
       "      <td>...</td>\n",
       "      <td>...</td>\n",
       "      <td>...</td>\n",
       "    </tr>\n",
       "    <tr>\n",
       "      <th>105802</th>\n",
       "      <td>128.828125</td>\n",
       "      <td>51.078943</td>\n",
       "      <td>-0.044618</td>\n",
       "      <td>-0.125946</td>\n",
       "      <td>2.771739</td>\n",
       "      <td>16.183736</td>\n",
       "      <td>8.986482</td>\n",
       "      <td>95.093257</td>\n",
       "    </tr>\n",
       "    <tr>\n",
       "      <th>105803</th>\n",
       "      <td>134.960938</td>\n",
       "      <td>48.381898</td>\n",
       "      <td>-0.144957</td>\n",
       "      <td>-0.060215</td>\n",
       "      <td>115.790970</td>\n",
       "      <td>96.550748</td>\n",
       "      <td>-0.481317</td>\n",
       "      <td>-1.681597</td>\n",
       "    </tr>\n",
       "    <tr>\n",
       "      <th>105804</th>\n",
       "      <td>98.562500</td>\n",
       "      <td>40.789544</td>\n",
       "      <td>0.701411</td>\n",
       "      <td>1.355573</td>\n",
       "      <td>2.660535</td>\n",
       "      <td>18.126257</td>\n",
       "      <td>8.578909</td>\n",
       "      <td>85.804845</td>\n",
       "    </tr>\n",
       "    <tr>\n",
       "      <th>105805</th>\n",
       "      <td>92.750000</td>\n",
       "      <td>41.991767</td>\n",
       "      <td>0.737211</td>\n",
       "      <td>1.624838</td>\n",
       "      <td>2.964883</td>\n",
       "      <td>16.684993</td>\n",
       "      <td>8.038275</td>\n",
       "      <td>83.738159</td>\n",
       "    </tr>\n",
       "    <tr>\n",
       "      <th>105806</th>\n",
       "      <td>46.570312</td>\n",
       "      <td>37.092209</td>\n",
       "      <td>3.255719</td>\n",
       "      <td>13.586891</td>\n",
       "      <td>20.753344</td>\n",
       "      <td>55.179492</td>\n",
       "      <td>2.735139</td>\n",
       "      <td>6.062639</td>\n",
       "    </tr>\n",
       "  </tbody>\n",
       "</table>\n",
       "<p>105807 rows × 8 columns</p>\n",
       "</div>"
      ],
      "text/plain": [
       "        Mean_Integrated         SD        EK   Skewness  Mean_DMSNR_Curve  \\\n",
       "0             50.085938  31.711644  2.933663  17.262631         37.221572   \n",
       "1            126.953125  47.962886  0.069867  -0.010815          1.354515   \n",
       "2            125.359375  45.566898 -0.098536   0.366824          3.801839   \n",
       "3             97.992188  41.890317  0.457329   1.043680          2.158027   \n",
       "4            107.132812  41.846006  0.255739   0.569564          2.153010   \n",
       "...                 ...        ...       ...        ...               ...   \n",
       "105802       128.828125  51.078943 -0.044618  -0.125946          2.771739   \n",
       "105803       134.960938  48.381898 -0.144957  -0.060215        115.790970   \n",
       "105804        98.562500  40.789544  0.701411   1.355573          2.660535   \n",
       "105805        92.750000  41.991767  0.737211   1.624838          2.964883   \n",
       "105806        46.570312  37.092209  3.255719  13.586891         20.753344   \n",
       "\n",
       "        SD_DMSNR_Curve  EK_DMSNR_Curve  Skewness_DMSNR_Curve  \n",
       "0            65.845159        1.735180              1.956476  \n",
       "1            10.362383       15.232491            307.749271  \n",
       "2            25.738458        7.810015             62.912358  \n",
       "3            17.897531        9.430141            100.257429  \n",
       "4            17.454589        9.777959            105.363261  \n",
       "...                ...             ...                   ...  \n",
       "105802       16.183736        8.986482             95.093257  \n",
       "105803       96.550748       -0.481317             -1.681597  \n",
       "105804       18.126257        8.578909             85.804845  \n",
       "105805       16.684993        8.038275             83.738159  \n",
       "105806       55.179492        2.735139              6.062639  \n",
       "\n",
       "[105807 rows x 8 columns]"
      ]
     },
     "execution_count": 15,
     "metadata": {},
     "output_type": "execute_result"
    }
   ],
   "source": [
    "iff1"
   ]
  },
  {
   "cell_type": "code",
   "execution_count": 18,
   "metadata": {},
   "outputs": [],
   "source": [
    "iff2 = df[['Class']]"
   ]
  },
  {
   "cell_type": "code",
   "execution_count": 20,
   "metadata": {},
   "outputs": [
    {
     "data": {
      "text/plain": [
       "pandas.core.frame.DataFrame"
      ]
     },
     "execution_count": 20,
     "metadata": {},
     "output_type": "execute_result"
    }
   ],
   "source": [
    "type(iff2)"
   ]
  },
  {
   "cell_type": "code",
   "execution_count": 21,
   "metadata": {},
   "outputs": [
    {
     "data": {
      "text/plain": [
       "pandas.core.frame.DataFrame"
      ]
     },
     "execution_count": 21,
     "metadata": {},
     "output_type": "execute_result"
    }
   ],
   "source": [
    "type(iff1)"
   ]
  },
  {
   "cell_type": "code",
   "execution_count": 23,
   "metadata": {},
   "outputs": [
    {
     "data": {
      "text/plain": [
       "ConfigBox({'model_selection': {'module_0': {'classifier': 'LGBMClassifier', 'module': 'lightgbm', 'params': {'n_estimators': 100, 'random_state': 0}}, 'module_1': {'classifier': 'XGBClassifier', 'module': 'xgboost', 'params': {'n_estimators': 50, 'random_state': 0}}}})"
      ]
     },
     "execution_count": 23,
     "metadata": {},
     "output_type": "execute_result"
    }
   ],
   "source": [
    "model_param"
   ]
  },
  {
   "cell_type": "code",
   "execution_count": 35,
   "metadata": {},
   "outputs": [],
   "source": [
    "import importlib\n",
    "def class1(md,class_name,args):\n",
    "    mod_1 = importlib.import_module(md)\n",
    "    class_ref = getattr(mod_1, class_name)\n",
    "    model = class_ref(**args)\n",
    "    \n",
    "    #class_ref.set_params(**args)\n",
    "    return model"
   ]
  },
  {
   "cell_type": "code",
   "execution_count": 43,
   "metadata": {},
   "outputs": [
    {
     "name": "stdout",
     "output_type": "stream",
     "text": [
      "[LightGBM] [Info] Number of positive: 9870, number of negative: 95937\n",
      "[LightGBM] [Warning] Auto-choosing col-wise multi-threading, the overhead of testing was 0.079491 seconds.\n",
      "You can set `force_col_wise=true` to remove the overhead.\n",
      "[LightGBM] [Info] Total Bins 2040\n",
      "[LightGBM] [Info] Number of data points in the train set: 105807, number of used features: 8\n",
      "[LightGBM] [Info] [binary:BoostFromScore]: pavg=0.093283 -> initscore=-2.274192\n",
      "[LightGBM] [Info] Start training from score -2.274192\n"
     ]
    },
    {
     "data": {
      "text/html": [
       "<style>#sk-container-id-5 {color: black;}#sk-container-id-5 pre{padding: 0;}#sk-container-id-5 div.sk-toggleable {background-color: white;}#sk-container-id-5 label.sk-toggleable__label {cursor: pointer;display: block;width: 100%;margin-bottom: 0;padding: 0.3em;box-sizing: border-box;text-align: center;}#sk-container-id-5 label.sk-toggleable__label-arrow:before {content: \"▸\";float: left;margin-right: 0.25em;color: #696969;}#sk-container-id-5 label.sk-toggleable__label-arrow:hover:before {color: black;}#sk-container-id-5 div.sk-estimator:hover label.sk-toggleable__label-arrow:before {color: black;}#sk-container-id-5 div.sk-toggleable__content {max-height: 0;max-width: 0;overflow: hidden;text-align: left;background-color: #f0f8ff;}#sk-container-id-5 div.sk-toggleable__content pre {margin: 0.2em;color: black;border-radius: 0.25em;background-color: #f0f8ff;}#sk-container-id-5 input.sk-toggleable__control:checked~div.sk-toggleable__content {max-height: 200px;max-width: 100%;overflow: auto;}#sk-container-id-5 input.sk-toggleable__control:checked~label.sk-toggleable__label-arrow:before {content: \"▾\";}#sk-container-id-5 div.sk-estimator input.sk-toggleable__control:checked~label.sk-toggleable__label {background-color: #d4ebff;}#sk-container-id-5 div.sk-label input.sk-toggleable__control:checked~label.sk-toggleable__label {background-color: #d4ebff;}#sk-container-id-5 input.sk-hidden--visually {border: 0;clip: rect(1px 1px 1px 1px);clip: rect(1px, 1px, 1px, 1px);height: 1px;margin: -1px;overflow: hidden;padding: 0;position: absolute;width: 1px;}#sk-container-id-5 div.sk-estimator {font-family: monospace;background-color: #f0f8ff;border: 1px dotted black;border-radius: 0.25em;box-sizing: border-box;margin-bottom: 0.5em;}#sk-container-id-5 div.sk-estimator:hover {background-color: #d4ebff;}#sk-container-id-5 div.sk-parallel-item::after {content: \"\";width: 100%;border-bottom: 1px solid gray;flex-grow: 1;}#sk-container-id-5 div.sk-label:hover label.sk-toggleable__label {background-color: #d4ebff;}#sk-container-id-5 div.sk-serial::before {content: \"\";position: absolute;border-left: 1px solid gray;box-sizing: border-box;top: 0;bottom: 0;left: 50%;z-index: 0;}#sk-container-id-5 div.sk-serial {display: flex;flex-direction: column;align-items: center;background-color: white;padding-right: 0.2em;padding-left: 0.2em;position: relative;}#sk-container-id-5 div.sk-item {position: relative;z-index: 1;}#sk-container-id-5 div.sk-parallel {display: flex;align-items: stretch;justify-content: center;background-color: white;position: relative;}#sk-container-id-5 div.sk-item::before, #sk-container-id-5 div.sk-parallel-item::before {content: \"\";position: absolute;border-left: 1px solid gray;box-sizing: border-box;top: 0;bottom: 0;left: 50%;z-index: -1;}#sk-container-id-5 div.sk-parallel-item {display: flex;flex-direction: column;z-index: 1;position: relative;background-color: white;}#sk-container-id-5 div.sk-parallel-item:first-child::after {align-self: flex-end;width: 50%;}#sk-container-id-5 div.sk-parallel-item:last-child::after {align-self: flex-start;width: 50%;}#sk-container-id-5 div.sk-parallel-item:only-child::after {width: 0;}#sk-container-id-5 div.sk-dashed-wrapped {border: 1px dashed gray;margin: 0 0.4em 0.5em 0.4em;box-sizing: border-box;padding-bottom: 0.4em;background-color: white;}#sk-container-id-5 div.sk-label label {font-family: monospace;font-weight: bold;display: inline-block;line-height: 1.2em;}#sk-container-id-5 div.sk-label-container {text-align: center;}#sk-container-id-5 div.sk-container {/* jupyter's `normalize.less` sets `[hidden] { display: none; }` but bootstrap.min.css set `[hidden] { display: none !important; }` so we also need the `!important` here to be able to override the default hidden behavior on the sphinx rendered scikit-learn.org. See: https://github.com/scikit-learn/scikit-learn/issues/21755 */display: inline-block !important;position: relative;}#sk-container-id-5 div.sk-text-repr-fallback {display: none;}</style><div id=\"sk-container-id-5\" class=\"sk-top-container\"><div class=\"sk-text-repr-fallback\"><pre>LGBMClassifier(random_state=0)</pre><b>In a Jupyter environment, please rerun this cell to show the HTML representation or trust the notebook. <br />On GitHub, the HTML representation is unable to render, please try loading this page with nbviewer.org.</b></div><div class=\"sk-container\" hidden><div class=\"sk-item\"><div class=\"sk-estimator sk-toggleable\"><input class=\"sk-toggleable__control sk-hidden--visually\" id=\"sk-estimator-id-5\" type=\"checkbox\" checked><label for=\"sk-estimator-id-5\" class=\"sk-toggleable__label sk-toggleable__label-arrow\">LGBMClassifier</label><div class=\"sk-toggleable__content\"><pre>LGBMClassifier(random_state=0)</pre></div></div></div></div></div>"
      ],
      "text/plain": [
       "LGBMClassifier(random_state=0)"
      ]
     },
     "execution_count": 43,
     "metadata": {},
     "output_type": "execute_result"
    }
   ],
   "source": [
    "from lightgbm import LGBMClassifier\n",
    "import numpy as np\n",
    "lgb = LGBMClassifier()\n",
    "lgb.set_params(**model_param.model_selection.module_0.params)\n",
    "lgb.fit(X=iff1,y=iff3)"
   ]
  },
  {
   "cell_type": "code",
   "execution_count": 36,
   "metadata": {},
   "outputs": [],
   "source": [
    "lgbm_model = class1(model_param.model_selection.module_0.module,\n",
    "                    model_param.model_selection.module_0.classifier,\n",
    "                    model_param.model_selection.module_0.params)"
   ]
  },
  {
   "cell_type": "code",
   "execution_count": 38,
   "metadata": {},
   "outputs": [
    {
     "data": {
      "text/plain": [
       "{'boosting_type': 'gbdt',\n",
       " 'class_weight': None,\n",
       " 'colsample_bytree': 1.0,\n",
       " 'importance_type': 'split',\n",
       " 'learning_rate': 0.1,\n",
       " 'max_depth': -1,\n",
       " 'min_child_samples': 20,\n",
       " 'min_child_weight': 0.001,\n",
       " 'min_split_gain': 0.0,\n",
       " 'n_estimators': 100,\n",
       " 'n_jobs': None,\n",
       " 'num_leaves': 31,\n",
       " 'objective': None,\n",
       " 'random_state': 0,\n",
       " 'reg_alpha': 0.0,\n",
       " 'reg_lambda': 0.0,\n",
       " 'subsample': 1.0,\n",
       " 'subsample_for_bin': 200000,\n",
       " 'subsample_freq': 0}"
      ]
     },
     "execution_count": 38,
     "metadata": {},
     "output_type": "execute_result"
    }
   ],
   "source": [
    "lgbm_model.get_params()"
   ]
  },
  {
   "cell_type": "code",
   "execution_count": 42,
   "metadata": {},
   "outputs": [
    {
     "data": {
      "text/plain": [
       "0         1\n",
       "1         0\n",
       "2         0\n",
       "3         0\n",
       "4         0\n",
       "         ..\n",
       "105802    0\n",
       "105803    0\n",
       "105804    0\n",
       "105805    0\n",
       "105806    1\n",
       "Name: Class, Length: 105807, dtype: int64"
      ]
     },
     "execution_count": 42,
     "metadata": {},
     "output_type": "execute_result"
    }
   ],
   "source": [
    "iff3 = df.iloc[:,-1]\n",
    "iff3"
   ]
  },
  {
   "cell_type": "code",
   "execution_count": 46,
   "metadata": {},
   "outputs": [
    {
     "data": {
      "text/plain": [
       "str"
      ]
     },
     "execution_count": 46,
     "metadata": {},
     "output_type": "execute_result"
    }
   ],
   "source": [
    "type(model_param.model_selection.module_0.module)"
   ]
  },
  {
   "cell_type": "code",
   "execution_count": 47,
   "metadata": {},
   "outputs": [],
   "source": [
    "d = {\"a\": {\"p1\": \"b\",\"p2\":\"c\"}}"
   ]
  },
  {
   "cell_type": "code",
   "execution_count": 61,
   "metadata": {},
   "outputs": [
    {
     "data": {
      "text/plain": [
       "{'all_trained_model_paths': {}}"
      ]
     },
     "execution_count": 61,
     "metadata": {},
     "output_type": "execute_result"
    }
   ],
   "source": [
    "u = {\"all_trained_model_paths\":{}}\n",
    "u"
   ]
  },
  {
   "cell_type": "code",
   "execution_count": 62,
   "metadata": {},
   "outputs": [],
   "source": [
    "dic1 = {\"b\":\"p1\"}\n",
    "u['all_trained_model_paths'].update(dic1)"
   ]
  },
  {
   "cell_type": "code",
   "execution_count": 63,
   "metadata": {},
   "outputs": [
    {
     "data": {
      "text/plain": [
       "{'all_trained_model_paths': {'b': 'p1'}}"
      ]
     },
     "execution_count": 63,
     "metadata": {},
     "output_type": "execute_result"
    }
   ],
   "source": [
    "u"
   ]
  },
  {
   "cell_type": "code",
   "execution_count": 57,
   "metadata": {},
   "outputs": [],
   "source": [
    "u['all_trained_model_paths'].update({\"b\":\"p1\"})"
   ]
  },
  {
   "cell_type": "code",
   "execution_count": 58,
   "metadata": {},
   "outputs": [
    {
     "data": {
      "text/plain": [
       "{'all_trained_model_paths': {'b': 'p1'}}"
      ]
     },
     "execution_count": 58,
     "metadata": {},
     "output_type": "execute_result"
    }
   ],
   "source": [
    "u"
   ]
  },
  {
   "cell_type": "code",
   "execution_count": 59,
   "metadata": {},
   "outputs": [],
   "source": [
    "u['all_trained_model_paths'].update({\"c\":\"p2\"})"
   ]
  },
  {
   "cell_type": "code",
   "execution_count": 60,
   "metadata": {},
   "outputs": [
    {
     "data": {
      "text/plain": [
       "{'all_trained_model_paths': {'b': 'p1', 'c': 'p2'}}"
      ]
     },
     "execution_count": 60,
     "metadata": {},
     "output_type": "execute_result"
    }
   ],
   "source": [
    "u"
   ]
  },
  {
   "cell_type": "code",
   "execution_count": 48,
   "metadata": {},
   "outputs": [
    {
     "data": {
      "text/plain": [
       "{'a': {'p1': 'b', 'p2': 'c'}}"
      ]
     },
     "execution_count": 48,
     "metadata": {},
     "output_type": "execute_result"
    }
   ],
   "source": [
    "d"
   ]
  },
  {
   "cell_type": "code",
   "execution_count": 51,
   "metadata": {},
   "outputs": [],
   "source": [
    "import yaml\n",
    "with open(\"check.yaml\",\"w\") as file:\n",
    "    yaml.dump(d, file)\n",
    "file.close()"
   ]
  },
  {
   "cell_type": "code",
   "execution_count": 52,
   "metadata": {},
   "outputs": [],
   "source": [
    "import pickle"
   ]
  },
  {
   "cell_type": "code",
   "execution_count": 1,
   "metadata": {},
   "outputs": [],
   "source": [
    "from pulsarclassification.utils.common import pickle_file_saving"
   ]
  },
  {
   "cell_type": "code",
   "execution_count": 65,
   "metadata": {},
   "outputs": [
    {
     "data": {
      "text/plain": [
       "lightgbm.sklearn.LGBMClassifier"
      ]
     },
     "execution_count": 65,
     "metadata": {},
     "output_type": "execute_result"
    }
   ],
   "source": [
    "type(lgb)"
   ]
  },
  {
   "cell_type": "code",
   "execution_count": 66,
   "metadata": {},
   "outputs": [],
   "source": [
    "import pickle\n",
    "pickle.dump(lgb,open(\"check.pkl\",\"wb\"))"
   ]
  },
  {
   "cell_type": "code",
   "execution_count": 1,
   "metadata": {},
   "outputs": [
    {
     "name": "stdout",
     "output_type": "stream",
     "text": [
      "g:\\success_analytics_courses\\internship_project\\pulsar_project\\research\n"
     ]
    },
    {
     "data": {
      "text/plain": [
       "'g:\\\\success_analytics_courses\\\\internship_project\\\\pulsar_project'"
      ]
     },
     "execution_count": 1,
     "metadata": {},
     "output_type": "execute_result"
    }
   ],
   "source": [
    "import os\n",
    "print(os.getcwd())\n",
    "os.chdir(\"../\")\n",
    "%pwd"
   ]
  },
  {
   "cell_type": "code",
   "execution_count": 2,
   "metadata": {},
   "outputs": [
    {
     "name": "stdout",
     "output_type": "stream",
     "text": [
      "[03-09-2023 08:32:19: INFO: common:  yaml file from this path G:\\success_analytics_courses\\internship_project\\pulsar_project\\config\\params.yaml read succesfully]\n"
     ]
    },
    {
     "data": {
      "text/plain": [
       "ConfigBox({'model_selection': {'module_0': {'classifier': 'LGBMClassifier', 'module': 'lightgbm', 'params': {'n_estimators': 100, 'random_state': 0}}, 'module_1': {'classifier': 'XGBClassifier', 'module': 'xgboost', 'params': {'n_estimators': 50, 'random_state': 0}}}})"
      ]
     },
     "execution_count": 2,
     "metadata": {},
     "output_type": "execute_result"
    }
   ],
   "source": [
    "from pulsarclassification.utils.common import read_yaml,create_directories,get_file_size\n",
    "model_param = read_yaml(\"G:\\\\success_analytics_courses\\\\internship_project\\\\pulsar_project\\\\config\\\\params.yaml\")\n",
    "model_param"
   ]
  },
  {
   "cell_type": "code",
   "execution_count": 3,
   "metadata": {},
   "outputs": [
    {
     "data": {
      "text/plain": [
       "ConfigBox({'module_0': {'classifier': 'LGBMClassifier', 'module': 'lightgbm', 'params': {'n_estimators': 100, 'random_state': 0}}, 'module_1': {'classifier': 'XGBClassifier', 'module': 'xgboost', 'params': {'n_estimators': 50, 'random_state': 0}}})"
      ]
     },
     "execution_count": 3,
     "metadata": {},
     "output_type": "execute_result"
    }
   ],
   "source": [
    "model_param.model_selection"
   ]
  },
  {
   "cell_type": "code",
   "execution_count": 4,
   "metadata": {},
   "outputs": [
    {
     "data": {
      "text/plain": [
       "box.config_box.ConfigBox"
      ]
     },
     "execution_count": 4,
     "metadata": {},
     "output_type": "execute_result"
    }
   ],
   "source": [
    "type(model_param.model_selection)"
   ]
  },
  {
   "cell_type": "code",
   "execution_count": 7,
   "metadata": {},
   "outputs": [
    {
     "name": "stdout",
     "output_type": "stream",
     "text": [
      "module_0\n",
      "module_1\n"
     ]
    }
   ],
   "source": [
    "a = model_param.model_selection\n",
    "e_l = []\n",
    "for key,value in a.items():\n",
    "    print(key)\n",
    "    e_l.append(key)"
   ]
  },
  {
   "cell_type": "code",
   "execution_count": 11,
   "metadata": {},
   "outputs": [
    {
     "name": "stdout",
     "output_type": "stream",
     "text": [
      "module_0\n",
      "module_1\n"
     ]
    },
    {
     "data": {
      "text/plain": [
       "['module_0', 'module_1']"
      ]
     },
     "execution_count": 11,
     "metadata": {},
     "output_type": "execute_result"
    }
   ],
   "source": [
    "ch = []\n",
    "for key,value in model_param.model_selection.items():\n",
    "    print(key)\n",
    "    ch.append(key)\n",
    "\n",
    "ch"
   ]
  },
  {
   "cell_type": "code",
   "execution_count": 8,
   "metadata": {},
   "outputs": [
    {
     "data": {
      "text/plain": [
       "['module_0', 'module_1']"
      ]
     },
     "execution_count": 8,
     "metadata": {},
     "output_type": "execute_result"
    }
   ],
   "source": [
    "e_l"
   ]
  },
  {
   "cell_type": "code",
   "execution_count": 10,
   "metadata": {},
   "outputs": [
    {
     "data": {
      "text/plain": [
       "'LGBMClassifier'"
      ]
     },
     "execution_count": 10,
     "metadata": {},
     "output_type": "execute_result"
    }
   ],
   "source": [
    "a[e_l[0]]['classifier']"
   ]
  },
  {
   "cell_type": "code",
   "execution_count": 13,
   "metadata": {},
   "outputs": [
    {
     "data": {
      "text/plain": [
       "'model_03092023'"
      ]
     },
     "execution_count": 13,
     "metadata": {},
     "output_type": "execute_result"
    }
   ],
   "source": [
    "from datetime import datetime\n",
    "CURRENT_DATE_STAMP = f\"{datetime.now().strftime('%d%m%Y')}\"\n",
    "CURRENT_DATE_STAMP\n",
    "ch = f\"model_{CURRENT_DATE_STAMP}\"\n",
    "ch"
   ]
  },
  {
   "cell_type": "code",
   "execution_count": 2,
   "metadata": {},
   "outputs": [
    {
     "name": "stdout",
     "output_type": "stream",
     "text": [
      "[03-09-2023 16:13:15: INFO: common:  yaml file from this path G:\\success_analytics_courses\\internship_project\\pulsar_project\\artifacts\\trained_model\\trained_model_path.yaml read succesfully]\n"
     ]
    }
   ],
   "source": [
    "from pulsarclassification.utils.common import read_yaml\n",
    "a = read_yaml(\"G:\\\\success_analytics_courses\\\\internship_project\\\\pulsar_project\\\\artifacts\\\\trained_model\\\\trained_model_path.yaml\")"
   ]
  },
  {
   "cell_type": "code",
   "execution_count": 3,
   "metadata": {},
   "outputs": [
    {
     "data": {
      "text/plain": [
       "ConfigBox({'all_trained_model_paths': {'model_0_path_03092023': 'artifacts\\\\trained_model\\\\model_03092023\\\\LGBMClassifier\\\\model.pkl', 'model_1_path_03092023': 'artifacts\\\\trained_model\\\\model_03092023\\\\XGBClassifier\\\\model.pkl'}})"
      ]
     },
     "execution_count": 3,
     "metadata": {},
     "output_type": "execute_result"
    }
   ],
   "source": [
    "a"
   ]
  },
  {
   "cell_type": "code",
   "execution_count": 4,
   "metadata": {},
   "outputs": [
    {
     "data": {
      "text/plain": [
       "ConfigBox({'model_0_path_03092023': 'artifacts\\\\trained_model\\\\model_03092023\\\\LGBMClassifier\\\\model.pkl', 'model_1_path_03092023': 'artifacts\\\\trained_model\\\\model_03092023\\\\XGBClassifier\\\\model.pkl'})"
      ]
     },
     "execution_count": 4,
     "metadata": {},
     "output_type": "execute_result"
    }
   ],
   "source": [
    "a.all_trained_model_paths"
   ]
  },
  {
   "cell_type": "code",
   "execution_count": 8,
   "metadata": {},
   "outputs": [
    {
     "data": {
      "text/plain": [
       "'g:\\\\success_analytics_courses\\\\internship_project\\\\pulsar_project'"
      ]
     },
     "execution_count": 8,
     "metadata": {},
     "output_type": "execute_result"
    }
   ],
   "source": [
    "%pwd\n",
    "import os\n",
    "os.chdir(\"../\")\n",
    "%pwd"
   ]
  },
  {
   "cell_type": "code",
   "execution_count": 9,
   "metadata": {},
   "outputs": [],
   "source": [
    "import pandas as pd\n",
    "b = pd.read_pickle(a.all_trained_model_paths['model_0_path_03092023'])"
   ]
  },
  {
   "cell_type": "code",
   "execution_count": 10,
   "metadata": {},
   "outputs": [
    {
     "data": {
      "text/plain": [
       "ConfigBox({'model_0_path_03092023': 'artifacts\\\\trained_model\\\\model_03092023\\\\LGBMClassifier\\\\model.pkl', 'model_1_path_03092023': 'artifacts\\\\trained_model\\\\model_03092023\\\\XGBClassifier\\\\model.pkl'})"
      ]
     },
     "execution_count": 10,
     "metadata": {},
     "output_type": "execute_result"
    }
   ],
   "source": [
    "a.all_trained_model_paths"
   ]
  },
  {
   "cell_type": "code",
   "execution_count": 18,
   "metadata": {},
   "outputs": [
    {
     "name": "stdout",
     "output_type": "stream",
     "text": [
      "model_0_path_03092023 artifacts\\trained_model\\model_03092023\\LGBMClassifier\\model.pkl\n",
      "model_1_path_03092023 artifacts\\trained_model\\model_03092023\\XGBClassifier\\model.pkl\n"
     ]
    }
   ],
   "source": [
    "for key,value in a.all_trained_model_paths.items():\n",
    "    print(key,value)"
   ]
  },
  {
   "cell_type": "code",
   "execution_count": 17,
   "metadata": {},
   "outputs": [
    {
     "data": {
      "text/plain": [
       "'artifacts\\\\trained_model\\\\model_03092023\\\\LGBMClassifier\\\\model.pkl'"
      ]
     },
     "execution_count": 17,
     "metadata": {},
     "output_type": "execute_result"
    }
   ],
   "source": [
    "a.all_trained_model_paths['model_0_path_03092023']"
   ]
  },
  {
   "cell_type": "code",
   "execution_count": 21,
   "metadata": {},
   "outputs": [
    {
     "data": {
      "text/plain": [
       "[1, 2]"
      ]
     },
     "execution_count": 21,
     "metadata": {},
     "output_type": "execute_result"
    }
   ],
   "source": [
    "a = [1,2]\n",
    "\n",
    "a"
   ]
  },
  {
   "cell_type": "code",
   "execution_count": 25,
   "metadata": {},
   "outputs": [
    {
     "data": {
      "text/html": [
       "<div>\n",
       "<style scoped>\n",
       "    .dataframe tbody tr th:only-of-type {\n",
       "        vertical-align: middle;\n",
       "    }\n",
       "\n",
       "    .dataframe tbody tr th {\n",
       "        vertical-align: top;\n",
       "    }\n",
       "\n",
       "    .dataframe thead th {\n",
       "        text-align: right;\n",
       "    }\n",
       "</style>\n",
       "<table border=\"1\" class=\"dataframe\">\n",
       "  <thead>\n",
       "    <tr style=\"text-align: right;\">\n",
       "      <th></th>\n",
       "      <th>a</th>\n",
       "      <th>b</th>\n",
       "      <th>c</th>\n",
       "      <th>d</th>\n",
       "    </tr>\n",
       "  </thead>\n",
       "  <tbody>\n",
       "    <tr>\n",
       "      <th>0</th>\n",
       "      <td>1</td>\n",
       "      <td>2</td>\n",
       "      <td>3</td>\n",
       "      <td>4</td>\n",
       "    </tr>\n",
       "  </tbody>\n",
       "</table>\n",
       "</div>"
      ],
      "text/plain": [
       "   a  b  c  d\n",
       "0  1  2  3  4"
      ]
     },
     "execution_count": 25,
     "metadata": {},
     "output_type": "execute_result"
    }
   ],
   "source": [
    "a = [1,2,3,4]\n",
    "pd.DataFrame([a],columns= [\"a\",'b','c','d'])"
   ]
  },
  {
   "cell_type": "code",
   "execution_count": 26,
   "metadata": {},
   "outputs": [
    {
     "data": {
      "text/plain": [
       "'g:\\\\success_analytics_courses\\\\internship_project\\\\pulsar_project'"
      ]
     },
     "execution_count": 26,
     "metadata": {},
     "output_type": "execute_result"
    }
   ],
   "source": [
    "from pulsarclassification.constants import *\n",
    "\n",
    "ROOT_DIR"
   ]
  },
  {
   "cell_type": "code",
   "execution_count": 28,
   "metadata": {},
   "outputs": [
    {
     "data": {
      "text/html": [
       "<div>\n",
       "<style scoped>\n",
       "    .dataframe tbody tr th:only-of-type {\n",
       "        vertical-align: middle;\n",
       "    }\n",
       "\n",
       "    .dataframe tbody tr th {\n",
       "        vertical-align: top;\n",
       "    }\n",
       "\n",
       "    .dataframe thead th {\n",
       "        text-align: right;\n",
       "    }\n",
       "</style>\n",
       "<table border=\"1\" class=\"dataframe\">\n",
       "  <thead>\n",
       "    <tr style=\"text-align: right;\">\n",
       "      <th></th>\n",
       "      <th>model_path</th>\n",
       "      <th>train_accuracy</th>\n",
       "      <th>test_accuracy</th>\n",
       "      <th>train_fpr</th>\n",
       "      <th>test_fpr</th>\n",
       "      <th>train_recall</th>\n",
       "      <th>test_recall</th>\n",
       "      <th>model_evaluation_status</th>\n",
       "    </tr>\n",
       "  </thead>\n",
       "  <tbody>\n",
       "    <tr>\n",
       "      <th>0</th>\n",
       "      <td>artifacts\\trained_model\\model_03092023\\LGBMCla...</td>\n",
       "      <td>0.992723</td>\n",
       "      <td>0.989708</td>\n",
       "      <td>0.002793</td>\n",
       "      <td>0.004878</td>\n",
       "      <td>0.949139</td>\n",
       "      <td>0.937101</td>\n",
       "      <td>1</td>\n",
       "    </tr>\n",
       "    <tr>\n",
       "      <th>1</th>\n",
       "      <td>artifacts\\trained_model\\model_03092023\\XGBClas...</td>\n",
       "      <td>0.994036</td>\n",
       "      <td>0.991324</td>\n",
       "      <td>0.001824</td>\n",
       "      <td>0.003096</td>\n",
       "      <td>0.953799</td>\n",
       "      <td>0.937101</td>\n",
       "      <td>1</td>\n",
       "    </tr>\n",
       "  </tbody>\n",
       "</table>\n",
       "</div>"
      ],
      "text/plain": [
       "                                          model_path  train_accuracy  \\\n",
       "0  artifacts\\trained_model\\model_03092023\\LGBMCla...        0.992723   \n",
       "1  artifacts\\trained_model\\model_03092023\\XGBClas...        0.994036   \n",
       "\n",
       "   test_accuracy  train_fpr  test_fpr  train_recall  test_recall  \\\n",
       "0       0.989708   0.002793  0.004878      0.949139     0.937101   \n",
       "1       0.991324   0.001824  0.003096      0.953799     0.937101   \n",
       "\n",
       "   model_evaluation_status  \n",
       "0                        1  \n",
       "1                        1  "
      ]
     },
     "execution_count": 28,
     "metadata": {},
     "output_type": "execute_result"
    }
   ],
   "source": [
    "res = pd.read_csv(\"artifacts\\\\evaluated_model_status\\\\evaluated_model_result.csv\")\n",
    "res"
   ]
  },
  {
   "cell_type": "code",
   "execution_count": 34,
   "metadata": {},
   "outputs": [
    {
     "data": {
      "text/plain": [
       "'artifacts\\\\trained_model\\\\model_03092023\\\\XGBClassifier\\\\model.pkl'"
      ]
     },
     "execution_count": 34,
     "metadata": {},
     "output_type": "execute_result"
    }
   ],
   "source": [
    "res[res['test_accuracy'] == res['test_accuracy'].max()]['model_path'].values[0]"
   ]
  },
  {
   "cell_type": "code",
   "execution_count": 32,
   "metadata": {},
   "outputs": [
    {
     "data": {
      "text/html": [
       "<div>\n",
       "<style scoped>\n",
       "    .dataframe tbody tr th:only-of-type {\n",
       "        vertical-align: middle;\n",
       "    }\n",
       "\n",
       "    .dataframe tbody tr th {\n",
       "        vertical-align: top;\n",
       "    }\n",
       "\n",
       "    .dataframe thead th {\n",
       "        text-align: right;\n",
       "    }\n",
       "</style>\n",
       "<table border=\"1\" class=\"dataframe\">\n",
       "  <thead>\n",
       "    <tr style=\"text-align: right;\">\n",
       "      <th></th>\n",
       "      <th>model_path</th>\n",
       "      <th>train_accuracy</th>\n",
       "      <th>test_accuracy</th>\n",
       "      <th>train_fpr</th>\n",
       "      <th>test_fpr</th>\n",
       "      <th>train_recall</th>\n",
       "      <th>test_recall</th>\n",
       "      <th>model_evaluation_status</th>\n",
       "    </tr>\n",
       "  </thead>\n",
       "  <tbody>\n",
       "    <tr>\n",
       "      <th>0</th>\n",
       "      <td>artifacts\\trained_model\\model_03092023\\LGBMCla...</td>\n",
       "      <td>0.992723</td>\n",
       "      <td>0.989708</td>\n",
       "      <td>0.002793</td>\n",
       "      <td>0.004878</td>\n",
       "      <td>0.949139</td>\n",
       "      <td>0.937101</td>\n",
       "      <td>1</td>\n",
       "    </tr>\n",
       "    <tr>\n",
       "      <th>1</th>\n",
       "      <td>artifacts\\trained_model\\model_03092023\\XGBClas...</td>\n",
       "      <td>0.994036</td>\n",
       "      <td>0.991324</td>\n",
       "      <td>0.001824</td>\n",
       "      <td>0.003096</td>\n",
       "      <td>0.953799</td>\n",
       "      <td>0.937101</td>\n",
       "      <td>1</td>\n",
       "    </tr>\n",
       "  </tbody>\n",
       "</table>\n",
       "</div>"
      ],
      "text/plain": [
       "                                          model_path  train_accuracy  \\\n",
       "0  artifacts\\trained_model\\model_03092023\\LGBMCla...        0.992723   \n",
       "1  artifacts\\trained_model\\model_03092023\\XGBClas...        0.994036   \n",
       "\n",
       "   test_accuracy  train_fpr  test_fpr  train_recall  test_recall  \\\n",
       "0       0.989708   0.002793  0.004878      0.949139     0.937101   \n",
       "1       0.991324   0.001824  0.003096      0.953799     0.937101   \n",
       "\n",
       "   model_evaluation_status  \n",
       "0                        1  \n",
       "1                        1  "
      ]
     },
     "execution_count": 32,
     "metadata": {},
     "output_type": "execute_result"
    }
   ],
   "source": [
    "res1 = res[res['model_evaluation_status']==1]\n",
    "res1"
   ]
  },
  {
   "cell_type": "code",
   "execution_count": 1,
   "metadata": {},
   "outputs": [
    {
     "data": {
      "text/plain": [
       "'g:\\\\success_analytics_courses\\\\internship_project\\\\pulsar_project'"
      ]
     },
     "execution_count": 1,
     "metadata": {},
     "output_type": "execute_result"
    }
   ],
   "source": [
    "import os\n",
    "os.getcwd()\n",
    "os.chdir(\"../\")\n",
    "%pwd"
   ]
  },
  {
   "cell_type": "code",
   "execution_count": 3,
   "metadata": {},
   "outputs": [
    {
     "data": {
      "text/plain": [
       "'g:\\\\success_analytics_courses\\\\internship_project\\\\pulsar_project'"
      ]
     },
     "execution_count": 3,
     "metadata": {},
     "output_type": "execute_result"
    }
   ],
   "source": [
    "os.getcwd()"
   ]
  },
  {
   "cell_type": "code",
   "execution_count": 4,
   "metadata": {},
   "outputs": [
    {
     "data": {
      "text/plain": [
       "'g:\\\\success_analytics_courses\\\\internship_project\\\\pulsar_project\\\\ModelRegistry'"
      ]
     },
     "execution_count": 4,
     "metadata": {},
     "output_type": "execute_result"
    }
   ],
   "source": [
    "model_dir = \"ModelRegistry\"\n",
    "rd = os.getcwd()\n",
    "model_paths = os.path.join(rd,model_dir)\n",
    "model_paths\n"
   ]
  },
  {
   "cell_type": "code",
   "execution_count": 6,
   "metadata": {},
   "outputs": [
    {
     "data": {
      "text/plain": [
       "['model_20230904.pkl', 'model_20230912.pkl']"
      ]
     },
     "execution_count": 6,
     "metadata": {},
     "output_type": "execute_result"
    }
   ],
   "source": [
    "os.listdir(model_paths)"
   ]
  },
  {
   "cell_type": "code",
   "execution_count": 7,
   "metadata": {},
   "outputs": [
    {
     "data": {
      "text/plain": [
       "'g:\\\\success_analytics_courses\\\\internship_project\\\\pulsar_project'"
      ]
     },
     "execution_count": 7,
     "metadata": {},
     "output_type": "execute_result"
    }
   ],
   "source": [
    "os.getcwd()"
   ]
  },
  {
   "cell_type": "code",
   "execution_count": 8,
   "metadata": {},
   "outputs": [
    {
     "name": "stdout",
     "output_type": "stream",
     "text": [
      "[13-09-2023 06:51:11: INFO: common:  yaml file from this path g:\\success_analytics_courses\\internship_project\\pulsar_project\\config\\schema.yaml read succesfully]\n"
     ]
    }
   ],
   "source": [
    "from pulsarclassification.utils.common import read_yaml\n",
    "from pulsarclassification.constants import *\n",
    "\n",
    "sch = read_yaml(SCHEMA_FILE_PATH)"
   ]
  },
  {
   "cell_type": "code",
   "execution_count": 9,
   "metadata": {},
   "outputs": [
    {
     "data": {
      "text/plain": [
       "ConfigBox({'number_of_feature_columns': 9, 'feature_columns': 'id Mean_Integrated SD EK Skewness Mean_DMSNR_Curve SD_DMSNR_Curve EK_DMSNR_Curve Skewness_DMSNR_Curve Class', 'datatype_of_columns': {'id': 'int64', 'Mean_Integrated': 'float64', 'SD': 'float64', 'EK': 'float64', 'Skewness': 'float64', 'Mean_DMSNR_Curve': 'float64', 'SD_DMSNR_Curve': 'float64', 'EK_DMSNR_Curve': 'float64', 'Skewness_DMSNR_Curve': 'float64', 'Class': 'int64'}, 'target_column': 'Class', 'class_value': {'Class_0': 0, 'Class_1': 1}})"
      ]
     },
     "execution_count": 9,
     "metadata": {},
     "output_type": "execute_result"
    }
   ],
   "source": [
    "sch"
   ]
  },
  {
   "cell_type": "code",
   "execution_count": 14,
   "metadata": {},
   "outputs": [],
   "source": [
    "a = sch.feature_columns.split(\" \")[:-1]"
   ]
  },
  {
   "cell_type": "code",
   "execution_count": 15,
   "metadata": {},
   "outputs": [
    {
     "data": {
      "text/plain": [
       "['id',\n",
       " 'Mean_Integrated',\n",
       " 'SD',\n",
       " 'EK',\n",
       " 'Skewness',\n",
       " 'Mean_DMSNR_Curve',\n",
       " 'SD_DMSNR_Curve',\n",
       " 'EK_DMSNR_Curve',\n",
       " 'Skewness_DMSNR_Curve']"
      ]
     },
     "execution_count": 15,
     "metadata": {},
     "output_type": "execute_result"
    }
   ],
   "source": [
    "a"
   ]
  },
  {
   "cell_type": "code",
   "execution_count": 16,
   "metadata": {},
   "outputs": [],
   "source": [
    "import pandas as pd"
   ]
  },
  {
   "cell_type": "code",
   "execution_count": 18,
   "metadata": {},
   "outputs": [],
   "source": [
    "df = pd.read_csv(\"artifacts\\\\data_transformation\\\\training_data_for_model\\\\pulsar_train_data.csv\")"
   ]
  },
  {
   "cell_type": "code",
   "execution_count": 19,
   "metadata": {},
   "outputs": [
    {
     "data": {
      "text/html": [
       "<div>\n",
       "<style scoped>\n",
       "    .dataframe tbody tr th:only-of-type {\n",
       "        vertical-align: middle;\n",
       "    }\n",
       "\n",
       "    .dataframe tbody tr th {\n",
       "        vertical-align: top;\n",
       "    }\n",
       "\n",
       "    .dataframe thead th {\n",
       "        text-align: right;\n",
       "    }\n",
       "</style>\n",
       "<table border=\"1\" class=\"dataframe\">\n",
       "  <thead>\n",
       "    <tr style=\"text-align: right;\">\n",
       "      <th></th>\n",
       "      <th>Mean_Integrated</th>\n",
       "      <th>SD</th>\n",
       "      <th>EK</th>\n",
       "      <th>Skewness</th>\n",
       "      <th>Mean_DMSNR_Curve</th>\n",
       "      <th>SD_DMSNR_Curve</th>\n",
       "      <th>EK_DMSNR_Curve</th>\n",
       "      <th>Skewness_DMSNR_Curve</th>\n",
       "      <th>Class</th>\n",
       "    </tr>\n",
       "  </thead>\n",
       "  <tbody>\n",
       "    <tr>\n",
       "      <th>0</th>\n",
       "      <td>50.085938</td>\n",
       "      <td>31.711644</td>\n",
       "      <td>2.933663</td>\n",
       "      <td>17.262631</td>\n",
       "      <td>37.221572</td>\n",
       "      <td>65.845159</td>\n",
       "      <td>1.735180</td>\n",
       "      <td>1.956476</td>\n",
       "      <td>1</td>\n",
       "    </tr>\n",
       "    <tr>\n",
       "      <th>1</th>\n",
       "      <td>126.953125</td>\n",
       "      <td>47.962886</td>\n",
       "      <td>0.069867</td>\n",
       "      <td>-0.010815</td>\n",
       "      <td>1.354515</td>\n",
       "      <td>10.362383</td>\n",
       "      <td>15.232491</td>\n",
       "      <td>307.749271</td>\n",
       "      <td>0</td>\n",
       "    </tr>\n",
       "    <tr>\n",
       "      <th>2</th>\n",
       "      <td>125.359375</td>\n",
       "      <td>45.566898</td>\n",
       "      <td>-0.098536</td>\n",
       "      <td>0.366824</td>\n",
       "      <td>3.801839</td>\n",
       "      <td>25.738458</td>\n",
       "      <td>7.810015</td>\n",
       "      <td>62.912358</td>\n",
       "      <td>0</td>\n",
       "    </tr>\n",
       "    <tr>\n",
       "      <th>3</th>\n",
       "      <td>97.992188</td>\n",
       "      <td>41.890317</td>\n",
       "      <td>0.457329</td>\n",
       "      <td>1.043680</td>\n",
       "      <td>2.158027</td>\n",
       "      <td>17.897531</td>\n",
       "      <td>9.430141</td>\n",
       "      <td>100.257429</td>\n",
       "      <td>0</td>\n",
       "    </tr>\n",
       "    <tr>\n",
       "      <th>4</th>\n",
       "      <td>107.132812</td>\n",
       "      <td>41.846006</td>\n",
       "      <td>0.255739</td>\n",
       "      <td>0.569564</td>\n",
       "      <td>2.153010</td>\n",
       "      <td>17.454589</td>\n",
       "      <td>9.777959</td>\n",
       "      <td>105.363261</td>\n",
       "      <td>0</td>\n",
       "    </tr>\n",
       "    <tr>\n",
       "      <th>...</th>\n",
       "      <td>...</td>\n",
       "      <td>...</td>\n",
       "      <td>...</td>\n",
       "      <td>...</td>\n",
       "      <td>...</td>\n",
       "      <td>...</td>\n",
       "      <td>...</td>\n",
       "      <td>...</td>\n",
       "      <td>...</td>\n",
       "    </tr>\n",
       "    <tr>\n",
       "      <th>105802</th>\n",
       "      <td>128.828125</td>\n",
       "      <td>51.078943</td>\n",
       "      <td>-0.044618</td>\n",
       "      <td>-0.125946</td>\n",
       "      <td>2.771739</td>\n",
       "      <td>16.183736</td>\n",
       "      <td>8.986482</td>\n",
       "      <td>95.093257</td>\n",
       "      <td>0</td>\n",
       "    </tr>\n",
       "    <tr>\n",
       "      <th>105803</th>\n",
       "      <td>134.960938</td>\n",
       "      <td>48.381898</td>\n",
       "      <td>-0.144957</td>\n",
       "      <td>-0.060215</td>\n",
       "      <td>115.790970</td>\n",
       "      <td>96.550748</td>\n",
       "      <td>-0.481317</td>\n",
       "      <td>-1.681597</td>\n",
       "      <td>0</td>\n",
       "    </tr>\n",
       "    <tr>\n",
       "      <th>105804</th>\n",
       "      <td>98.562500</td>\n",
       "      <td>40.789544</td>\n",
       "      <td>0.701411</td>\n",
       "      <td>1.355573</td>\n",
       "      <td>2.660535</td>\n",
       "      <td>18.126257</td>\n",
       "      <td>8.578909</td>\n",
       "      <td>85.804845</td>\n",
       "      <td>0</td>\n",
       "    </tr>\n",
       "    <tr>\n",
       "      <th>105805</th>\n",
       "      <td>92.750000</td>\n",
       "      <td>41.991767</td>\n",
       "      <td>0.737211</td>\n",
       "      <td>1.624838</td>\n",
       "      <td>2.964883</td>\n",
       "      <td>16.684993</td>\n",
       "      <td>8.038275</td>\n",
       "      <td>83.738159</td>\n",
       "      <td>0</td>\n",
       "    </tr>\n",
       "    <tr>\n",
       "      <th>105806</th>\n",
       "      <td>46.570312</td>\n",
       "      <td>37.092209</td>\n",
       "      <td>3.255719</td>\n",
       "      <td>13.586891</td>\n",
       "      <td>20.753344</td>\n",
       "      <td>55.179492</td>\n",
       "      <td>2.735139</td>\n",
       "      <td>6.062639</td>\n",
       "      <td>1</td>\n",
       "    </tr>\n",
       "  </tbody>\n",
       "</table>\n",
       "<p>105807 rows × 9 columns</p>\n",
       "</div>"
      ],
      "text/plain": [
       "        Mean_Integrated         SD        EK   Skewness  Mean_DMSNR_Curve  \\\n",
       "0             50.085938  31.711644  2.933663  17.262631         37.221572   \n",
       "1            126.953125  47.962886  0.069867  -0.010815          1.354515   \n",
       "2            125.359375  45.566898 -0.098536   0.366824          3.801839   \n",
       "3             97.992188  41.890317  0.457329   1.043680          2.158027   \n",
       "4            107.132812  41.846006  0.255739   0.569564          2.153010   \n",
       "...                 ...        ...       ...        ...               ...   \n",
       "105802       128.828125  51.078943 -0.044618  -0.125946          2.771739   \n",
       "105803       134.960938  48.381898 -0.144957  -0.060215        115.790970   \n",
       "105804        98.562500  40.789544  0.701411   1.355573          2.660535   \n",
       "105805        92.750000  41.991767  0.737211   1.624838          2.964883   \n",
       "105806        46.570312  37.092209  3.255719  13.586891         20.753344   \n",
       "\n",
       "        SD_DMSNR_Curve  EK_DMSNR_Curve  Skewness_DMSNR_Curve  Class  \n",
       "0            65.845159        1.735180              1.956476      1  \n",
       "1            10.362383       15.232491            307.749271      0  \n",
       "2            25.738458        7.810015             62.912358      0  \n",
       "3            17.897531        9.430141            100.257429      0  \n",
       "4            17.454589        9.777959            105.363261      0  \n",
       "...                ...             ...                   ...    ...  \n",
       "105802       16.183736        8.986482             95.093257      0  \n",
       "105803       96.550748       -0.481317             -1.681597      0  \n",
       "105804       18.126257        8.578909             85.804845      0  \n",
       "105805       16.684993        8.038275             83.738159      0  \n",
       "105806       55.179492        2.735139              6.062639      1  \n",
       "\n",
       "[105807 rows x 9 columns]"
      ]
     },
     "execution_count": 19,
     "metadata": {},
     "output_type": "execute_result"
    }
   ],
   "source": [
    "df"
   ]
  },
  {
   "cell_type": "code",
   "execution_count": 21,
   "metadata": {},
   "outputs": [
    {
     "data": {
      "text/plain": [
       "False"
      ]
     },
     "execution_count": 21,
     "metadata": {},
     "output_type": "execute_result"
    }
   ],
   "source": [
    "df['EK'].isna().sum() > 0"
   ]
  },
  {
   "cell_type": "code",
   "execution_count": 23,
   "metadata": {},
   "outputs": [],
   "source": [
    "df['EK'].fillna(df['EK'].mean(),inplace=True)"
   ]
  },
  {
   "cell_type": "code",
   "execution_count": 24,
   "metadata": {},
   "outputs": [
    {
     "data": {
      "text/plain": [
       "0         2.933663\n",
       "1         0.069867\n",
       "2        -0.098536\n",
       "3         0.457329\n",
       "4         0.255739\n",
       "            ...   \n",
       "105802   -0.044618\n",
       "105803   -0.144957\n",
       "105804    0.701411\n",
       "105805    0.737211\n",
       "105806    3.255719\n",
       "Name: EK, Length: 105807, dtype: float64"
      ]
     },
     "execution_count": 24,
     "metadata": {},
     "output_type": "execute_result"
    }
   ],
   "source": [
    "df['EK']"
   ]
  },
  {
   "cell_type": "code",
   "execution_count": 25,
   "metadata": {},
   "outputs": [
    {
     "name": "stdout",
     "output_type": "stream",
     "text": [
      "[13-09-2023 07:14:42: INFO: common:  yaml file from this path g:\\success_analytics_courses\\internship_project\\pulsar_project\\config\\config.yaml read succesfully]\n"
     ]
    }
   ],
   "source": [
    "config = read_yaml(CONFIG_FILE_PATH)"
   ]
  },
  {
   "cell_type": "code",
   "execution_count": 26,
   "metadata": {},
   "outputs": [
    {
     "data": {
      "text/plain": [
       "ConfigBox({'artifacts_dir_name': 'artifacts', 'data_ingestion_config': {'root_dir_name': 'data_ingestion', 'dataset_download_url': 'https://github.com/sumit-1492/datasets/raw/main/playground-series-s3e10.zip', 'zip_data_dir_name': 'raw_data', 'unzip_data_dir_name': 'ingested_data'}, 'data_validation_config': {'validated_root_dir_name': 'data_validation', 'validated_train_dir': 'training_data_for_model', 'validated_test_dir': 'industrial_test_data', 'validated_status_report_file_name': 'status.txt', 'validated_required_files': ['train', 'test', 'sample_submission']}, 'data_transformation_config': {'transformed_root_dir_name': 'data_transformation', 'transformed_train_dir': 'training_data_for_model', 'transformed_test_dir': 'test_data_for_model', 'transformed_industrial_data_dir': 'industrial_test_data', 'transformed_preprocess_dir': 'preprocessed_pickle_file'}, 'model_trainer_config': {'trained_model_root_dir_name': 'trained_model', 'trained_model_path_yaml_file': 'trained_model_path.yaml', 'trained_model_base_accuracy': 0.95, 'trained_model_overfit_value': 0.05, 'trained_model_FPR': 0.01, 'trained_model_RECALL': 0.9}, 'model_evaluation_config': {'evaluated_model_root_dir_name': 'evaluated_model_status', 'evaluated_model_result_file_name': 'evaluated_model_result.csv', 'evaluated_model_result_file_column_name': ['model_path', 'train_accuracy', 'test_accuracy', 'train_fpr', 'test_fpr', 'train_recall', 'test_recall', 'model_evaluation_status']}, 'model_pusher_config': {'pushed_model_root_dir_name': 'ModelRegistry', 'pushed_model_information_dir_name': 'pushed_model_info', 'pushed_model_path_yaml_file': 'pushed_model_path.yaml'}})"
      ]
     },
     "execution_count": 26,
     "metadata": {},
     "output_type": "execute_result"
    }
   ],
   "source": [
    "config"
   ]
  },
  {
   "cell_type": "code",
   "execution_count": 27,
   "metadata": {},
   "outputs": [
    {
     "data": {
      "text/plain": [
       "'data_transformation'"
      ]
     },
     "execution_count": 27,
     "metadata": {},
     "output_type": "execute_result"
    }
   ],
   "source": [
    "config.data_transformation_config.transformed_root_dir_name"
   ]
  },
  {
   "cell_type": "code",
   "execution_count": 28,
   "metadata": {},
   "outputs": [
    {
     "data": {
      "text/plain": [
       "'training_data_for_model'"
      ]
     },
     "execution_count": 28,
     "metadata": {},
     "output_type": "execute_result"
    }
   ],
   "source": [
    "config.data_transformation_config.transformed_train_dir"
   ]
  },
  {
   "cell_type": "code",
   "execution_count": 29,
   "metadata": {},
   "outputs": [],
   "source": [
    "artifact_dir = config.artifacts_dir_name\n",
    "data_transformation_dir = os.path.join(artifact_dir,config.data_transformation_config.transformed_root_dir_name)\n",
    "data_transformation_train_dir = os.path.join(data_transformation_dir,config.data_transformation_config.transformed_train_dir)\n",
    "            #df = pd.read_csv(self.batch_csv_file_path)\n",
    "\n",
    "train_data_path = os.path.join(data_transformation_train_dir,TRANSFORMED_MODEL_TRAIN_FILE_NAME)"
   ]
  },
  {
   "cell_type": "code",
   "execution_count": 31,
   "metadata": {},
   "outputs": [
    {
     "data": {
      "text/html": [
       "<div>\n",
       "<style scoped>\n",
       "    .dataframe tbody tr th:only-of-type {\n",
       "        vertical-align: middle;\n",
       "    }\n",
       "\n",
       "    .dataframe tbody tr th {\n",
       "        vertical-align: top;\n",
       "    }\n",
       "\n",
       "    .dataframe thead th {\n",
       "        text-align: right;\n",
       "    }\n",
       "</style>\n",
       "<table border=\"1\" class=\"dataframe\">\n",
       "  <thead>\n",
       "    <tr style=\"text-align: right;\">\n",
       "      <th></th>\n",
       "      <th>Mean_Integrated</th>\n",
       "      <th>SD</th>\n",
       "      <th>EK</th>\n",
       "      <th>Skewness</th>\n",
       "      <th>Mean_DMSNR_Curve</th>\n",
       "      <th>SD_DMSNR_Curve</th>\n",
       "      <th>EK_DMSNR_Curve</th>\n",
       "      <th>Skewness_DMSNR_Curve</th>\n",
       "      <th>Class</th>\n",
       "    </tr>\n",
       "  </thead>\n",
       "  <tbody>\n",
       "    <tr>\n",
       "      <th>0</th>\n",
       "      <td>50.085938</td>\n",
       "      <td>31.711644</td>\n",
       "      <td>2.933663</td>\n",
       "      <td>17.262631</td>\n",
       "      <td>37.221572</td>\n",
       "      <td>65.845159</td>\n",
       "      <td>1.735180</td>\n",
       "      <td>1.956476</td>\n",
       "      <td>1</td>\n",
       "    </tr>\n",
       "    <tr>\n",
       "      <th>1</th>\n",
       "      <td>126.953125</td>\n",
       "      <td>47.962886</td>\n",
       "      <td>0.069867</td>\n",
       "      <td>-0.010815</td>\n",
       "      <td>1.354515</td>\n",
       "      <td>10.362383</td>\n",
       "      <td>15.232491</td>\n",
       "      <td>307.749271</td>\n",
       "      <td>0</td>\n",
       "    </tr>\n",
       "    <tr>\n",
       "      <th>2</th>\n",
       "      <td>125.359375</td>\n",
       "      <td>45.566898</td>\n",
       "      <td>-0.098536</td>\n",
       "      <td>0.366824</td>\n",
       "      <td>3.801839</td>\n",
       "      <td>25.738458</td>\n",
       "      <td>7.810015</td>\n",
       "      <td>62.912358</td>\n",
       "      <td>0</td>\n",
       "    </tr>\n",
       "    <tr>\n",
       "      <th>3</th>\n",
       "      <td>97.992188</td>\n",
       "      <td>41.890317</td>\n",
       "      <td>0.457329</td>\n",
       "      <td>1.043680</td>\n",
       "      <td>2.158027</td>\n",
       "      <td>17.897531</td>\n",
       "      <td>9.430141</td>\n",
       "      <td>100.257429</td>\n",
       "      <td>0</td>\n",
       "    </tr>\n",
       "    <tr>\n",
       "      <th>4</th>\n",
       "      <td>107.132812</td>\n",
       "      <td>41.846006</td>\n",
       "      <td>0.255739</td>\n",
       "      <td>0.569564</td>\n",
       "      <td>2.153010</td>\n",
       "      <td>17.454589</td>\n",
       "      <td>9.777959</td>\n",
       "      <td>105.363261</td>\n",
       "      <td>0</td>\n",
       "    </tr>\n",
       "    <tr>\n",
       "      <th>...</th>\n",
       "      <td>...</td>\n",
       "      <td>...</td>\n",
       "      <td>...</td>\n",
       "      <td>...</td>\n",
       "      <td>...</td>\n",
       "      <td>...</td>\n",
       "      <td>...</td>\n",
       "      <td>...</td>\n",
       "      <td>...</td>\n",
       "    </tr>\n",
       "    <tr>\n",
       "      <th>105802</th>\n",
       "      <td>128.828125</td>\n",
       "      <td>51.078943</td>\n",
       "      <td>-0.044618</td>\n",
       "      <td>-0.125946</td>\n",
       "      <td>2.771739</td>\n",
       "      <td>16.183736</td>\n",
       "      <td>8.986482</td>\n",
       "      <td>95.093257</td>\n",
       "      <td>0</td>\n",
       "    </tr>\n",
       "    <tr>\n",
       "      <th>105803</th>\n",
       "      <td>134.960938</td>\n",
       "      <td>48.381898</td>\n",
       "      <td>-0.144957</td>\n",
       "      <td>-0.060215</td>\n",
       "      <td>115.790970</td>\n",
       "      <td>96.550748</td>\n",
       "      <td>-0.481317</td>\n",
       "      <td>-1.681597</td>\n",
       "      <td>0</td>\n",
       "    </tr>\n",
       "    <tr>\n",
       "      <th>105804</th>\n",
       "      <td>98.562500</td>\n",
       "      <td>40.789544</td>\n",
       "      <td>0.701411</td>\n",
       "      <td>1.355573</td>\n",
       "      <td>2.660535</td>\n",
       "      <td>18.126257</td>\n",
       "      <td>8.578909</td>\n",
       "      <td>85.804845</td>\n",
       "      <td>0</td>\n",
       "    </tr>\n",
       "    <tr>\n",
       "      <th>105805</th>\n",
       "      <td>92.750000</td>\n",
       "      <td>41.991767</td>\n",
       "      <td>0.737211</td>\n",
       "      <td>1.624838</td>\n",
       "      <td>2.964883</td>\n",
       "      <td>16.684993</td>\n",
       "      <td>8.038275</td>\n",
       "      <td>83.738159</td>\n",
       "      <td>0</td>\n",
       "    </tr>\n",
       "    <tr>\n",
       "      <th>105806</th>\n",
       "      <td>46.570312</td>\n",
       "      <td>37.092209</td>\n",
       "      <td>3.255719</td>\n",
       "      <td>13.586891</td>\n",
       "      <td>20.753344</td>\n",
       "      <td>55.179492</td>\n",
       "      <td>2.735139</td>\n",
       "      <td>6.062639</td>\n",
       "      <td>1</td>\n",
       "    </tr>\n",
       "  </tbody>\n",
       "</table>\n",
       "<p>105807 rows × 9 columns</p>\n",
       "</div>"
      ],
      "text/plain": [
       "        Mean_Integrated         SD        EK   Skewness  Mean_DMSNR_Curve  \\\n",
       "0             50.085938  31.711644  2.933663  17.262631         37.221572   \n",
       "1            126.953125  47.962886  0.069867  -0.010815          1.354515   \n",
       "2            125.359375  45.566898 -0.098536   0.366824          3.801839   \n",
       "3             97.992188  41.890317  0.457329   1.043680          2.158027   \n",
       "4            107.132812  41.846006  0.255739   0.569564          2.153010   \n",
       "...                 ...        ...       ...        ...               ...   \n",
       "105802       128.828125  51.078943 -0.044618  -0.125946          2.771739   \n",
       "105803       134.960938  48.381898 -0.144957  -0.060215        115.790970   \n",
       "105804        98.562500  40.789544  0.701411   1.355573          2.660535   \n",
       "105805        92.750000  41.991767  0.737211   1.624838          2.964883   \n",
       "105806        46.570312  37.092209  3.255719  13.586891         20.753344   \n",
       "\n",
       "        SD_DMSNR_Curve  EK_DMSNR_Curve  Skewness_DMSNR_Curve  Class  \n",
       "0            65.845159        1.735180              1.956476      1  \n",
       "1            10.362383       15.232491            307.749271      0  \n",
       "2            25.738458        7.810015             62.912358      0  \n",
       "3            17.897531        9.430141            100.257429      0  \n",
       "4            17.454589        9.777959            105.363261      0  \n",
       "...                ...             ...                   ...    ...  \n",
       "105802       16.183736        8.986482             95.093257      0  \n",
       "105803       96.550748       -0.481317             -1.681597      0  \n",
       "105804       18.126257        8.578909             85.804845      0  \n",
       "105805       16.684993        8.038275             83.738159      0  \n",
       "105806       55.179492        2.735139              6.062639      1  \n",
       "\n",
       "[105807 rows x 9 columns]"
      ]
     },
     "execution_count": 31,
     "metadata": {},
     "output_type": "execute_result"
    }
   ],
   "source": [
    "pd.read_csv(train_data_path)"
   ]
  },
  {
   "cell_type": "code",
   "execution_count": 1,
   "metadata": {},
   "outputs": [
    {
     "data": {
      "text/html": [
       "<div>\n",
       "<style scoped>\n",
       "    .dataframe tbody tr th:only-of-type {\n",
       "        vertical-align: middle;\n",
       "    }\n",
       "\n",
       "    .dataframe tbody tr th {\n",
       "        vertical-align: top;\n",
       "    }\n",
       "\n",
       "    .dataframe thead th {\n",
       "        text-align: right;\n",
       "    }\n",
       "</style>\n",
       "<table border=\"1\" class=\"dataframe\">\n",
       "  <thead>\n",
       "    <tr style=\"text-align: right;\">\n",
       "      <th></th>\n",
       "      <th>Mean_Integrated</th>\n",
       "      <th>SD</th>\n",
       "      <th>EK</th>\n",
       "      <th>Skewness</th>\n",
       "      <th>Mean_DMSNR_Curve</th>\n",
       "      <th>SD_DMSNR_Curve</th>\n",
       "      <th>EK_DMSNR_Curve</th>\n",
       "      <th>Skewness_DMSNR_Curve</th>\n",
       "    </tr>\n",
       "  </thead>\n",
       "  <tbody>\n",
       "    <tr>\n",
       "      <th>0</th>\n",
       "      <td>140.046875</td>\n",
       "      <td>54.507800</td>\n",
       "      <td>0.058862</td>\n",
       "      <td>-0.567263</td>\n",
       "      <td>2.337793</td>\n",
       "      <td>14.868335</td>\n",
       "      <td>9.591760</td>\n",
       "      <td>117.988781</td>\n",
       "    </tr>\n",
       "    <tr>\n",
       "      <th>1</th>\n",
       "      <td>107.828125</td>\n",
       "      <td>51.578965</td>\n",
       "      <td>0.284368</td>\n",
       "      <td>-0.338430</td>\n",
       "      <td>1.574415</td>\n",
       "      <td>12.501437</td>\n",
       "      <td>11.694968</td>\n",
       "      <td>182.704822</td>\n",
       "    </tr>\n",
       "    <tr>\n",
       "      <th>2</th>\n",
       "      <td>135.062500</td>\n",
       "      <td>49.812343</td>\n",
       "      <td>-0.087784</td>\n",
       "      <td>-0.094341</td>\n",
       "      <td>3.576923</td>\n",
       "      <td>21.243336</td>\n",
       "      <td>7.252386</td>\n",
       "      <td>59.021499</td>\n",
       "    </tr>\n",
       "    <tr>\n",
       "      <th>3</th>\n",
       "      <td>112.812500</td>\n",
       "      <td>41.926647</td>\n",
       "      <td>0.519921</td>\n",
       "      <td>1.287762</td>\n",
       "      <td>6.669732</td>\n",
       "      <td>29.013153</td>\n",
       "      <td>5.097661</td>\n",
       "      <td>27.105240</td>\n",
       "    </tr>\n",
       "    <tr>\n",
       "      <th>4</th>\n",
       "      <td>96.210938</td>\n",
       "      <td>35.322620</td>\n",
       "      <td>0.481286</td>\n",
       "      <td>2.443080</td>\n",
       "      <td>2.218227</td>\n",
       "      <td>17.041064</td>\n",
       "      <td>9.766006</td>\n",
       "      <td>117.131775</td>\n",
       "    </tr>\n",
       "    <tr>\n",
       "      <th>...</th>\n",
       "      <td>...</td>\n",
       "      <td>...</td>\n",
       "      <td>...</td>\n",
       "      <td>...</td>\n",
       "      <td>...</td>\n",
       "      <td>...</td>\n",
       "      <td>...</td>\n",
       "      <td>...</td>\n",
       "    </tr>\n",
       "    <tr>\n",
       "      <th>78372</th>\n",
       "      <td>119.328125</td>\n",
       "      <td>46.449223</td>\n",
       "      <td>0.227636</td>\n",
       "      <td>0.161986</td>\n",
       "      <td>1.120401</td>\n",
       "      <td>13.883072</td>\n",
       "      <td>14.153556</td>\n",
       "      <td>213.485463</td>\n",
       "    </tr>\n",
       "    <tr>\n",
       "      <th>78373</th>\n",
       "      <td>125.835938</td>\n",
       "      <td>43.986678</td>\n",
       "      <td>0.078460</td>\n",
       "      <td>0.077917</td>\n",
       "      <td>2.342809</td>\n",
       "      <td>13.008583</td>\n",
       "      <td>9.907167</td>\n",
       "      <td>136.815454</td>\n",
       "    </tr>\n",
       "    <tr>\n",
       "      <th>78374</th>\n",
       "      <td>131.789062</td>\n",
       "      <td>43.493074</td>\n",
       "      <td>0.049140</td>\n",
       "      <td>0.402859</td>\n",
       "      <td>2.116221</td>\n",
       "      <td>14.639555</td>\n",
       "      <td>10.898768</td>\n",
       "      <td>147.929016</td>\n",
       "    </tr>\n",
       "    <tr>\n",
       "      <th>78375</th>\n",
       "      <td>79.476562</td>\n",
       "      <td>42.579993</td>\n",
       "      <td>0.817383</td>\n",
       "      <td>1.818474</td>\n",
       "      <td>1.903010</td>\n",
       "      <td>15.844982</td>\n",
       "      <td>10.723755</td>\n",
       "      <td>143.273847</td>\n",
       "    </tr>\n",
       "    <tr>\n",
       "      <th>78376</th>\n",
       "      <td>68.265625</td>\n",
       "      <td>39.611800</td>\n",
       "      <td>1.924393</td>\n",
       "      <td>5.348909</td>\n",
       "      <td>20.903010</td>\n",
       "      <td>55.143702</td>\n",
       "      <td>2.489474</td>\n",
       "      <td>5.413000</td>\n",
       "    </tr>\n",
       "  </tbody>\n",
       "</table>\n",
       "<p>78377 rows × 8 columns</p>\n",
       "</div>"
      ],
      "text/plain": [
       "       Mean_Integrated         SD        EK  Skewness  Mean_DMSNR_Curve  \\\n",
       "0           140.046875  54.507800  0.058862 -0.567263          2.337793   \n",
       "1           107.828125  51.578965  0.284368 -0.338430          1.574415   \n",
       "2           135.062500  49.812343 -0.087784 -0.094341          3.576923   \n",
       "3           112.812500  41.926647  0.519921  1.287762          6.669732   \n",
       "4            96.210938  35.322620  0.481286  2.443080          2.218227   \n",
       "...                ...        ...       ...       ...               ...   \n",
       "78372       119.328125  46.449223  0.227636  0.161986          1.120401   \n",
       "78373       125.835938  43.986678  0.078460  0.077917          2.342809   \n",
       "78374       131.789062  43.493074  0.049140  0.402859          2.116221   \n",
       "78375        79.476562  42.579993  0.817383  1.818474          1.903010   \n",
       "78376        68.265625  39.611800  1.924393  5.348909         20.903010   \n",
       "\n",
       "       SD_DMSNR_Curve  EK_DMSNR_Curve  Skewness_DMSNR_Curve  \n",
       "0           14.868335        9.591760            117.988781  \n",
       "1           12.501437       11.694968            182.704822  \n",
       "2           21.243336        7.252386             59.021499  \n",
       "3           29.013153        5.097661             27.105240  \n",
       "4           17.041064        9.766006            117.131775  \n",
       "...               ...             ...                   ...  \n",
       "78372       13.883072       14.153556            213.485463  \n",
       "78373       13.008583        9.907167            136.815454  \n",
       "78374       14.639555       10.898768            147.929016  \n",
       "78375       15.844982       10.723755            143.273847  \n",
       "78376       55.143702        2.489474              5.413000  \n",
       "\n",
       "[78377 rows x 8 columns]"
      ]
     },
     "execution_count": 1,
     "metadata": {},
     "output_type": "execute_result"
    }
   ],
   "source": [
    "import os\n",
    "os.getcwd()\n",
    "os.chdir(\"../\")\n",
    "%pwd\n",
    "import pandas as pd\n",
    "df1 = pd.read_csv(\"artifacts\\\\data_transformation\\\\industrial_test_data\\\\Industrial_pulsar_data.csv\")\n",
    "df1"
   ]
  },
  {
   "cell_type": "code",
   "execution_count": 2,
   "metadata": {},
   "outputs": [
    {
     "name": "stdout",
     "output_type": "stream",
     "text": [
      "[13-09-2023 08:35:16: INFO: common:  yaml file from this path g:\\success_analytics_courses\\internship_project\\pulsar_project\\config\\config.yaml read succesfully]\n",
      "[13-09-2023 08:35:16: INFO: common:  Directory already present: artifacts ]\n",
      "[13-09-2023 08:35:16: INFO: configuration:  Artifacts directory created at : artifacts ]\n",
      "[13-09-2023 08:35:16: INFO: common:  Directory already present: artifacts\\pushed_model_info ]\n",
      "[13-09-2023 08:35:16: INFO: common:  Directory already present: g:\\success_analytics_courses\\internship_project\\pulsar_project\\ModelRegistry ]\n",
      "[13-09-2023 08:35:16: INFO: configuration:  Model pusher configuration: ModelPusherConfiguration(pushed_model_root_dir_name='g:\\\\success_analytics_courses\\\\internship_project\\\\pulsar_project\\\\ModelRegistry', pushed_model_information_dir_name='artifacts\\\\pushed_model_info', pushed_model_path_yaml_file='artifacts\\\\pushed_model_info\\\\pushed_model_path.yaml')]\n",
      "[13-09-2023 08:35:16: INFO: common:  yaml file from this path artifacts\\pushed_model_info\\pushed_model_path.yaml read succesfully]\n",
      "[13-09-2023 08:35:17: INFO: stage_07_model_prediction: latest model read from : G:\\success_analytics_courses\\internship_project\\pulsar_project\\ModelRegistry\\model_20230912.pkl ]\n"
     ]
    },
    {
     "data": {
      "text/plain": [
       "array([0, 0, 0, ..., 0, 0, 1])"
      ]
     },
     "execution_count": 2,
     "metadata": {},
     "output_type": "execute_result"
    }
   ],
   "source": [
    "from pulsarclassification.pipeline.stage_07_model_prediction import BatchData,ModelPredict\n",
    "mp = ModelPredict()\n",
    "res = mp.predict(df1)\n",
    "res"
   ]
  },
  {
   "cell_type": "code",
   "execution_count": 9,
   "metadata": {},
   "outputs": [
    {
     "data": {
      "text/plain": [
       "0\n",
       "0    71458\n",
       "1     6919\n",
       "Name: count, dtype: int64"
      ]
     },
     "execution_count": 9,
     "metadata": {},
     "output_type": "execute_result"
    }
   ],
   "source": [
    "res_df = pd.DataFrame(res)\n",
    "res_df[0].value_counts()"
   ]
  },
  {
   "cell_type": "code",
   "execution_count": 2,
   "metadata": {},
   "outputs": [
    {
     "name": "stdout",
     "output_type": "stream",
     "text": [
      "[13-09-2023 08:41:07: INFO: stage_07_model_prediction: ===============Data Batch prediction log started===============]\n",
      "[13-09-2023 08:41:07: INFO: common:  yaml file from this path g:\\success_analytics_courses\\internship_project\\pulsar_project\\config\\schema.yaml read succesfully]\n",
      "[13-09-2023 08:41:07: INFO: common:  yaml file from this path g:\\success_analytics_courses\\internship_project\\pulsar_project\\config\\config.yaml read succesfully]\n",
      "[13-09-2023 08:41:08: INFO: stage_07_model_prediction: Batch data has required number of 9 i.e (78377, 9)]\n",
      "[13-09-2023 08:41:08: INFO: stage_07_model_prediction: Batch data has required datatype as train data : Mean_Integrated]\n",
      "[13-09-2023 08:41:08: INFO: stage_07_model_prediction: Batch data has no null value in:Mean_Integrated]\n",
      "[13-09-2023 08:41:08: INFO: stage_07_model_prediction: Batch data has required datatype as train data : SD]\n",
      "[13-09-2023 08:41:08: INFO: stage_07_model_prediction: Batch data has no null value in:SD]\n",
      "[13-09-2023 08:41:08: INFO: stage_07_model_prediction: Batch data has required datatype as train data : EK]\n",
      "[13-09-2023 08:41:08: INFO: stage_07_model_prediction: Batch data has no null value in:EK]\n",
      "[13-09-2023 08:41:08: INFO: stage_07_model_prediction: Batch data has required datatype as train data : Skewness]\n",
      "[13-09-2023 08:41:08: INFO: stage_07_model_prediction: Batch data has no null value in:Skewness]\n",
      "[13-09-2023 08:41:08: INFO: stage_07_model_prediction: Batch data has required datatype as train data : Mean_DMSNR_Curve]\n",
      "[13-09-2023 08:41:08: INFO: stage_07_model_prediction: Batch data has no null value in:Mean_DMSNR_Curve]\n",
      "[13-09-2023 08:41:08: INFO: stage_07_model_prediction: Batch data has required datatype as train data : SD_DMSNR_Curve]\n",
      "[13-09-2023 08:41:08: INFO: stage_07_model_prediction: Batch data has no null value in:SD_DMSNR_Curve]\n",
      "[13-09-2023 08:41:08: INFO: stage_07_model_prediction: Batch data has required datatype as train data : EK_DMSNR_Curve]\n",
      "[13-09-2023 08:41:08: INFO: stage_07_model_prediction: Batch data has no null value in:EK_DMSNR_Curve]\n",
      "[13-09-2023 08:41:08: INFO: stage_07_model_prediction: Batch data has required datatype as train data : Skewness_DMSNR_Curve]\n",
      "[13-09-2023 08:41:08: INFO: stage_07_model_prediction: Batch data has no null value in:Skewness_DMSNR_Curve]\n"
     ]
    },
    {
     "data": {
      "text/html": [
       "<div>\n",
       "<style scoped>\n",
       "    .dataframe tbody tr th:only-of-type {\n",
       "        vertical-align: middle;\n",
       "    }\n",
       "\n",
       "    .dataframe tbody tr th {\n",
       "        vertical-align: top;\n",
       "    }\n",
       "\n",
       "    .dataframe thead th {\n",
       "        text-align: right;\n",
       "    }\n",
       "</style>\n",
       "<table border=\"1\" class=\"dataframe\">\n",
       "  <thead>\n",
       "    <tr style=\"text-align: right;\">\n",
       "      <th></th>\n",
       "      <th>Mean_Integrated</th>\n",
       "      <th>SD</th>\n",
       "      <th>EK</th>\n",
       "      <th>Skewness</th>\n",
       "      <th>Mean_DMSNR_Curve</th>\n",
       "      <th>SD_DMSNR_Curve</th>\n",
       "      <th>EK_DMSNR_Curve</th>\n",
       "      <th>Skewness_DMSNR_Curve</th>\n",
       "    </tr>\n",
       "  </thead>\n",
       "  <tbody>\n",
       "    <tr>\n",
       "      <th>0</th>\n",
       "      <td>140.046875</td>\n",
       "      <td>54.507800</td>\n",
       "      <td>0.058862</td>\n",
       "      <td>-0.567263</td>\n",
       "      <td>2.337793</td>\n",
       "      <td>14.868335</td>\n",
       "      <td>9.591760</td>\n",
       "      <td>117.988781</td>\n",
       "    </tr>\n",
       "    <tr>\n",
       "      <th>1</th>\n",
       "      <td>107.828125</td>\n",
       "      <td>51.578965</td>\n",
       "      <td>0.284368</td>\n",
       "      <td>-0.338430</td>\n",
       "      <td>1.574415</td>\n",
       "      <td>12.501437</td>\n",
       "      <td>11.694968</td>\n",
       "      <td>182.704822</td>\n",
       "    </tr>\n",
       "    <tr>\n",
       "      <th>2</th>\n",
       "      <td>135.062500</td>\n",
       "      <td>49.812343</td>\n",
       "      <td>-0.087784</td>\n",
       "      <td>-0.094341</td>\n",
       "      <td>3.576923</td>\n",
       "      <td>21.243336</td>\n",
       "      <td>7.252386</td>\n",
       "      <td>59.021499</td>\n",
       "    </tr>\n",
       "    <tr>\n",
       "      <th>3</th>\n",
       "      <td>112.812500</td>\n",
       "      <td>41.926647</td>\n",
       "      <td>0.519921</td>\n",
       "      <td>1.287762</td>\n",
       "      <td>6.669732</td>\n",
       "      <td>29.013153</td>\n",
       "      <td>5.097661</td>\n",
       "      <td>27.105240</td>\n",
       "    </tr>\n",
       "    <tr>\n",
       "      <th>4</th>\n",
       "      <td>96.210938</td>\n",
       "      <td>35.322620</td>\n",
       "      <td>0.481286</td>\n",
       "      <td>2.443080</td>\n",
       "      <td>2.218227</td>\n",
       "      <td>17.041064</td>\n",
       "      <td>9.766006</td>\n",
       "      <td>117.131775</td>\n",
       "    </tr>\n",
       "    <tr>\n",
       "      <th>...</th>\n",
       "      <td>...</td>\n",
       "      <td>...</td>\n",
       "      <td>...</td>\n",
       "      <td>...</td>\n",
       "      <td>...</td>\n",
       "      <td>...</td>\n",
       "      <td>...</td>\n",
       "      <td>...</td>\n",
       "    </tr>\n",
       "    <tr>\n",
       "      <th>78372</th>\n",
       "      <td>119.328125</td>\n",
       "      <td>46.449223</td>\n",
       "      <td>0.227636</td>\n",
       "      <td>0.161986</td>\n",
       "      <td>1.120401</td>\n",
       "      <td>13.883072</td>\n",
       "      <td>14.153556</td>\n",
       "      <td>213.485463</td>\n",
       "    </tr>\n",
       "    <tr>\n",
       "      <th>78373</th>\n",
       "      <td>125.835938</td>\n",
       "      <td>43.986678</td>\n",
       "      <td>0.078460</td>\n",
       "      <td>0.077917</td>\n",
       "      <td>2.342809</td>\n",
       "      <td>13.008583</td>\n",
       "      <td>9.907167</td>\n",
       "      <td>136.815454</td>\n",
       "    </tr>\n",
       "    <tr>\n",
       "      <th>78374</th>\n",
       "      <td>131.789062</td>\n",
       "      <td>43.493074</td>\n",
       "      <td>0.049140</td>\n",
       "      <td>0.402859</td>\n",
       "      <td>2.116221</td>\n",
       "      <td>14.639555</td>\n",
       "      <td>10.898768</td>\n",
       "      <td>147.929016</td>\n",
       "    </tr>\n",
       "    <tr>\n",
       "      <th>78375</th>\n",
       "      <td>79.476562</td>\n",
       "      <td>42.579993</td>\n",
       "      <td>0.817383</td>\n",
       "      <td>1.818474</td>\n",
       "      <td>1.903010</td>\n",
       "      <td>15.844982</td>\n",
       "      <td>10.723755</td>\n",
       "      <td>143.273847</td>\n",
       "    </tr>\n",
       "    <tr>\n",
       "      <th>78376</th>\n",
       "      <td>68.265625</td>\n",
       "      <td>39.611800</td>\n",
       "      <td>1.924393</td>\n",
       "      <td>5.348909</td>\n",
       "      <td>20.903010</td>\n",
       "      <td>55.143702</td>\n",
       "      <td>2.489474</td>\n",
       "      <td>5.413000</td>\n",
       "    </tr>\n",
       "  </tbody>\n",
       "</table>\n",
       "<p>78377 rows × 8 columns</p>\n",
       "</div>"
      ],
      "text/plain": [
       "       Mean_Integrated         SD        EK  Skewness  Mean_DMSNR_Curve  \\\n",
       "0           140.046875  54.507800  0.058862 -0.567263          2.337793   \n",
       "1           107.828125  51.578965  0.284368 -0.338430          1.574415   \n",
       "2           135.062500  49.812343 -0.087784 -0.094341          3.576923   \n",
       "3           112.812500  41.926647  0.519921  1.287762          6.669732   \n",
       "4            96.210938  35.322620  0.481286  2.443080          2.218227   \n",
       "...                ...        ...       ...       ...               ...   \n",
       "78372       119.328125  46.449223  0.227636  0.161986          1.120401   \n",
       "78373       125.835938  43.986678  0.078460  0.077917          2.342809   \n",
       "78374       131.789062  43.493074  0.049140  0.402859          2.116221   \n",
       "78375        79.476562  42.579993  0.817383  1.818474          1.903010   \n",
       "78376        68.265625  39.611800  1.924393  5.348909         20.903010   \n",
       "\n",
       "       SD_DMSNR_Curve  EK_DMSNR_Curve  Skewness_DMSNR_Curve  \n",
       "0           14.868335        9.591760            117.988781  \n",
       "1           12.501437       11.694968            182.704822  \n",
       "2           21.243336        7.252386             59.021499  \n",
       "3           29.013153        5.097661             27.105240  \n",
       "4           17.041064        9.766006            117.131775  \n",
       "...               ...             ...                   ...  \n",
       "78372       13.883072       14.153556            213.485463  \n",
       "78373       13.008583        9.907167            136.815454  \n",
       "78374       14.639555       10.898768            147.929016  \n",
       "78375       15.844982       10.723755            143.273847  \n",
       "78376       55.143702        2.489474              5.413000  \n",
       "\n",
       "[78377 rows x 8 columns]"
      ]
     },
     "execution_count": 2,
     "metadata": {},
     "output_type": "execute_result"
    }
   ],
   "source": [
    "from pulsarclassification.pipeline.stage_07_model_prediction import BatchData,ModelPredict\n",
    "bp = \"artifacts\\\\data_ingestion\\\\ingested_data\\\\test.csv\"\n",
    "bd = BatchData(bp)\n",
    "df2 = bd.get_batch_data_transformation()\n",
    "df2"
   ]
  },
  {
   "cell_type": "code",
   "execution_count": 3,
   "metadata": {},
   "outputs": [
    {
     "name": "stdout",
     "output_type": "stream",
     "text": [
      "[13-09-2023 08:42:02: INFO: common:  yaml file from this path g:\\success_analytics_courses\\internship_project\\pulsar_project\\config\\config.yaml read succesfully]\n",
      "[13-09-2023 08:42:02: INFO: common:  Directory already present: artifacts ]\n",
      "[13-09-2023 08:42:02: INFO: configuration:  Artifacts directory created at : artifacts ]\n",
      "[13-09-2023 08:42:02: INFO: common:  Directory already present: artifacts\\pushed_model_info ]\n",
      "[13-09-2023 08:42:02: INFO: common:  Directory already present: g:\\success_analytics_courses\\internship_project\\pulsar_project\\ModelRegistry ]\n",
      "[13-09-2023 08:42:02: INFO: configuration:  Model pusher configuration: ModelPusherConfiguration(pushed_model_root_dir_name='g:\\\\success_analytics_courses\\\\internship_project\\\\pulsar_project\\\\ModelRegistry', pushed_model_information_dir_name='artifacts\\\\pushed_model_info', pushed_model_path_yaml_file='artifacts\\\\pushed_model_info\\\\pushed_model_path.yaml')]\n",
      "[13-09-2023 08:42:02: INFO: common:  yaml file from this path artifacts\\pushed_model_info\\pushed_model_path.yaml read succesfully]\n",
      "[13-09-2023 08:42:04: INFO: stage_07_model_prediction: latest model read from : G:\\success_analytics_courses\\internship_project\\pulsar_project\\ModelRegistry\\model_20230912.pkl ]\n"
     ]
    },
    {
     "data": {
      "text/plain": [
       "0\n",
       "0    71458\n",
       "1     6919\n",
       "Name: count, dtype: int64"
      ]
     },
     "execution_count": 3,
     "metadata": {},
     "output_type": "execute_result"
    }
   ],
   "source": [
    "mp = ModelPredict()\n",
    "res = mp.predict(df2)\n",
    "res_df = pd.DataFrame(res)\n",
    "res_df[0].value_counts()"
   ]
  },
  {
   "cell_type": "code",
   "execution_count": 4,
   "metadata": {},
   "outputs": [
    {
     "data": {
      "text/plain": [
       "array([0, 0, 0, ..., 0, 0, 1])"
      ]
     },
     "execution_count": 4,
     "metadata": {},
     "output_type": "execute_result"
    }
   ],
   "source": [
    "res"
   ]
  },
  {
   "cell_type": "code",
   "execution_count": 5,
   "metadata": {},
   "outputs": [],
   "source": [
    "df2['predicted_model_result'] = res"
   ]
  },
  {
   "cell_type": "code",
   "execution_count": 6,
   "metadata": {},
   "outputs": [
    {
     "data": {
      "text/html": [
       "<div>\n",
       "<style scoped>\n",
       "    .dataframe tbody tr th:only-of-type {\n",
       "        vertical-align: middle;\n",
       "    }\n",
       "\n",
       "    .dataframe tbody tr th {\n",
       "        vertical-align: top;\n",
       "    }\n",
       "\n",
       "    .dataframe thead th {\n",
       "        text-align: right;\n",
       "    }\n",
       "</style>\n",
       "<table border=\"1\" class=\"dataframe\">\n",
       "  <thead>\n",
       "    <tr style=\"text-align: right;\">\n",
       "      <th></th>\n",
       "      <th>Mean_Integrated</th>\n",
       "      <th>SD</th>\n",
       "      <th>EK</th>\n",
       "      <th>Skewness</th>\n",
       "      <th>Mean_DMSNR_Curve</th>\n",
       "      <th>SD_DMSNR_Curve</th>\n",
       "      <th>EK_DMSNR_Curve</th>\n",
       "      <th>Skewness_DMSNR_Curve</th>\n",
       "      <th>predicted_model_result</th>\n",
       "    </tr>\n",
       "  </thead>\n",
       "  <tbody>\n",
       "    <tr>\n",
       "      <th>0</th>\n",
       "      <td>140.046875</td>\n",
       "      <td>54.507800</td>\n",
       "      <td>0.058862</td>\n",
       "      <td>-0.567263</td>\n",
       "      <td>2.337793</td>\n",
       "      <td>14.868335</td>\n",
       "      <td>9.591760</td>\n",
       "      <td>117.988781</td>\n",
       "      <td>0</td>\n",
       "    </tr>\n",
       "    <tr>\n",
       "      <th>1</th>\n",
       "      <td>107.828125</td>\n",
       "      <td>51.578965</td>\n",
       "      <td>0.284368</td>\n",
       "      <td>-0.338430</td>\n",
       "      <td>1.574415</td>\n",
       "      <td>12.501437</td>\n",
       "      <td>11.694968</td>\n",
       "      <td>182.704822</td>\n",
       "      <td>0</td>\n",
       "    </tr>\n",
       "    <tr>\n",
       "      <th>2</th>\n",
       "      <td>135.062500</td>\n",
       "      <td>49.812343</td>\n",
       "      <td>-0.087784</td>\n",
       "      <td>-0.094341</td>\n",
       "      <td>3.576923</td>\n",
       "      <td>21.243336</td>\n",
       "      <td>7.252386</td>\n",
       "      <td>59.021499</td>\n",
       "      <td>0</td>\n",
       "    </tr>\n",
       "    <tr>\n",
       "      <th>3</th>\n",
       "      <td>112.812500</td>\n",
       "      <td>41.926647</td>\n",
       "      <td>0.519921</td>\n",
       "      <td>1.287762</td>\n",
       "      <td>6.669732</td>\n",
       "      <td>29.013153</td>\n",
       "      <td>5.097661</td>\n",
       "      <td>27.105240</td>\n",
       "      <td>0</td>\n",
       "    </tr>\n",
       "    <tr>\n",
       "      <th>4</th>\n",
       "      <td>96.210938</td>\n",
       "      <td>35.322620</td>\n",
       "      <td>0.481286</td>\n",
       "      <td>2.443080</td>\n",
       "      <td>2.218227</td>\n",
       "      <td>17.041064</td>\n",
       "      <td>9.766006</td>\n",
       "      <td>117.131775</td>\n",
       "      <td>0</td>\n",
       "    </tr>\n",
       "    <tr>\n",
       "      <th>...</th>\n",
       "      <td>...</td>\n",
       "      <td>...</td>\n",
       "      <td>...</td>\n",
       "      <td>...</td>\n",
       "      <td>...</td>\n",
       "      <td>...</td>\n",
       "      <td>...</td>\n",
       "      <td>...</td>\n",
       "      <td>...</td>\n",
       "    </tr>\n",
       "    <tr>\n",
       "      <th>78372</th>\n",
       "      <td>119.328125</td>\n",
       "      <td>46.449223</td>\n",
       "      <td>0.227636</td>\n",
       "      <td>0.161986</td>\n",
       "      <td>1.120401</td>\n",
       "      <td>13.883072</td>\n",
       "      <td>14.153556</td>\n",
       "      <td>213.485463</td>\n",
       "      <td>0</td>\n",
       "    </tr>\n",
       "    <tr>\n",
       "      <th>78373</th>\n",
       "      <td>125.835938</td>\n",
       "      <td>43.986678</td>\n",
       "      <td>0.078460</td>\n",
       "      <td>0.077917</td>\n",
       "      <td>2.342809</td>\n",
       "      <td>13.008583</td>\n",
       "      <td>9.907167</td>\n",
       "      <td>136.815454</td>\n",
       "      <td>0</td>\n",
       "    </tr>\n",
       "    <tr>\n",
       "      <th>78374</th>\n",
       "      <td>131.789062</td>\n",
       "      <td>43.493074</td>\n",
       "      <td>0.049140</td>\n",
       "      <td>0.402859</td>\n",
       "      <td>2.116221</td>\n",
       "      <td>14.639555</td>\n",
       "      <td>10.898768</td>\n",
       "      <td>147.929016</td>\n",
       "      <td>0</td>\n",
       "    </tr>\n",
       "    <tr>\n",
       "      <th>78375</th>\n",
       "      <td>79.476562</td>\n",
       "      <td>42.579993</td>\n",
       "      <td>0.817383</td>\n",
       "      <td>1.818474</td>\n",
       "      <td>1.903010</td>\n",
       "      <td>15.844982</td>\n",
       "      <td>10.723755</td>\n",
       "      <td>143.273847</td>\n",
       "      <td>0</td>\n",
       "    </tr>\n",
       "    <tr>\n",
       "      <th>78376</th>\n",
       "      <td>68.265625</td>\n",
       "      <td>39.611800</td>\n",
       "      <td>1.924393</td>\n",
       "      <td>5.348909</td>\n",
       "      <td>20.903010</td>\n",
       "      <td>55.143702</td>\n",
       "      <td>2.489474</td>\n",
       "      <td>5.413000</td>\n",
       "      <td>1</td>\n",
       "    </tr>\n",
       "  </tbody>\n",
       "</table>\n",
       "<p>78377 rows × 9 columns</p>\n",
       "</div>"
      ],
      "text/plain": [
       "       Mean_Integrated         SD        EK  Skewness  Mean_DMSNR_Curve  \\\n",
       "0           140.046875  54.507800  0.058862 -0.567263          2.337793   \n",
       "1           107.828125  51.578965  0.284368 -0.338430          1.574415   \n",
       "2           135.062500  49.812343 -0.087784 -0.094341          3.576923   \n",
       "3           112.812500  41.926647  0.519921  1.287762          6.669732   \n",
       "4            96.210938  35.322620  0.481286  2.443080          2.218227   \n",
       "...                ...        ...       ...       ...               ...   \n",
       "78372       119.328125  46.449223  0.227636  0.161986          1.120401   \n",
       "78373       125.835938  43.986678  0.078460  0.077917          2.342809   \n",
       "78374       131.789062  43.493074  0.049140  0.402859          2.116221   \n",
       "78375        79.476562  42.579993  0.817383  1.818474          1.903010   \n",
       "78376        68.265625  39.611800  1.924393  5.348909         20.903010   \n",
       "\n",
       "       SD_DMSNR_Curve  EK_DMSNR_Curve  Skewness_DMSNR_Curve  \\\n",
       "0           14.868335        9.591760            117.988781   \n",
       "1           12.501437       11.694968            182.704822   \n",
       "2           21.243336        7.252386             59.021499   \n",
       "3           29.013153        5.097661             27.105240   \n",
       "4           17.041064        9.766006            117.131775   \n",
       "...               ...             ...                   ...   \n",
       "78372       13.883072       14.153556            213.485463   \n",
       "78373       13.008583        9.907167            136.815454   \n",
       "78374       14.639555       10.898768            147.929016   \n",
       "78375       15.844982       10.723755            143.273847   \n",
       "78376       55.143702        2.489474              5.413000   \n",
       "\n",
       "       predicted_model_result  \n",
       "0                           0  \n",
       "1                           0  \n",
       "2                           0  \n",
       "3                           0  \n",
       "4                           0  \n",
       "...                       ...  \n",
       "78372                       0  \n",
       "78373                       0  \n",
       "78374                       0  \n",
       "78375                       0  \n",
       "78376                       1  \n",
       "\n",
       "[78377 rows x 9 columns]"
      ]
     },
     "execution_count": 6,
     "metadata": {},
     "output_type": "execute_result"
    }
   ],
   "source": [
    "df2"
   ]
  },
  {
   "cell_type": "code",
   "execution_count": 2,
   "metadata": {},
   "outputs": [
    {
     "data": {
      "text/plain": [
       "'g:\\\\success_analytics_courses\\\\internship_project\\\\pulsar_project'"
      ]
     },
     "execution_count": 2,
     "metadata": {},
     "output_type": "execute_result"
    }
   ],
   "source": [
    "import os\n",
    "%pwd\n",
    "os.chdir(\"../\")\n",
    "%pwd"
   ]
  },
  {
   "cell_type": "code",
   "execution_count": 4,
   "metadata": {},
   "outputs": [
    {
     "name": "stdout",
     "output_type": "stream",
     "text": [
      "['pandas\\n', 'numpy\\n', 'matplotlib\\n', 'notebook\\n', 'PyYAML\\n', 'seaborn\\n', 'scikit-learn\\n', 'flask\\n', 'boto3\\n', 'lightgbm==4.0.0\\n', 'xgboost==1.7.6\\n', 'mypy-boto3-s3\\n', 'python-box==6.0.2\\n', 'ensure==1.0.2\\n', 'fastapi==0.78.0\\n', 'uvicorn==0.18.3\\n', 'Jinja2==3.1.2\\n']\n"
     ]
    }
   ],
   "source": [
    "with open(\"requirements.txt\",'r') as file:\n",
    "        lines = file.readlines()\n",
    "        print(lines)"
   ]
  }
 ],
 "metadata": {
  "kernelspec": {
   "display_name": "Python 3",
   "language": "python",
   "name": "python3"
  },
  "language_info": {
   "codemirror_mode": {
    "name": "ipython",
    "version": 3
   },
   "file_extension": ".py",
   "mimetype": "text/x-python",
   "name": "python",
   "nbconvert_exporter": "python",
   "pygments_lexer": "ipython3",
   "version": "3.9.17"
  },
  "orig_nbformat": 4
 },
 "nbformat": 4,
 "nbformat_minor": 2
}
