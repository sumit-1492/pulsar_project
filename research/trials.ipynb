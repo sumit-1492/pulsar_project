{
 "cells": [
  {
   "cell_type": "code",
   "execution_count": 3,
   "metadata": {},
   "outputs": [],
   "source": [
    "import os\n",
    "import pandas as pd\n",
    "import numpy as np"
   ]
  },
  {
   "cell_type": "code",
   "execution_count": 4,
   "metadata": {},
   "outputs": [
    {
     "data": {
      "text/plain": [
       "'g:\\\\success_analytics_courses\\\\internship_project\\\\pulsar_project'"
      ]
     },
     "execution_count": 4,
     "metadata": {},
     "output_type": "execute_result"
    }
   ],
   "source": [
    "%pwd\n",
    "os.chdir(\"../\")\n",
    "%pwd"
   ]
  },
  {
   "cell_type": "code",
   "execution_count": 5,
   "metadata": {},
   "outputs": [],
   "source": [
    "df = pd.read_csv(\"artifacts\\\\data_ingestion\\\\ingested_data\\\\train.csv\")"
   ]
  },
  {
   "cell_type": "code",
   "execution_count": 7,
   "metadata": {},
   "outputs": [
    {
     "data": {
      "text/html": [
       "<div>\n",
       "<style scoped>\n",
       "    .dataframe tbody tr th:only-of-type {\n",
       "        vertical-align: middle;\n",
       "    }\n",
       "\n",
       "    .dataframe tbody tr th {\n",
       "        vertical-align: top;\n",
       "    }\n",
       "\n",
       "    .dataframe thead th {\n",
       "        text-align: right;\n",
       "    }\n",
       "</style>\n",
       "<table border=\"1\" class=\"dataframe\">\n",
       "  <thead>\n",
       "    <tr style=\"text-align: right;\">\n",
       "      <th></th>\n",
       "      <th>id</th>\n",
       "      <th>Mean_Integrated</th>\n",
       "      <th>SD</th>\n",
       "      <th>EK</th>\n",
       "      <th>Skewness</th>\n",
       "      <th>Mean_DMSNR_Curve</th>\n",
       "      <th>SD_DMSNR_Curve</th>\n",
       "      <th>EK_DMSNR_Curve</th>\n",
       "      <th>Skewness_DMSNR_Curve</th>\n",
       "      <th>Class</th>\n",
       "    </tr>\n",
       "  </thead>\n",
       "  <tbody>\n",
       "    <tr>\n",
       "      <th>0</th>\n",
       "      <td>0</td>\n",
       "      <td>133.171875</td>\n",
       "      <td>59.716081</td>\n",
       "      <td>0.043133</td>\n",
       "      <td>-0.703383</td>\n",
       "      <td>54.917224</td>\n",
       "      <td>70.084438</td>\n",
       "      <td>0.749798</td>\n",
       "      <td>-0.649512</td>\n",
       "      <td>0</td>\n",
       "    </tr>\n",
       "    <tr>\n",
       "      <th>1</th>\n",
       "      <td>1</td>\n",
       "      <td>87.093750</td>\n",
       "      <td>36.257973</td>\n",
       "      <td>0.435469</td>\n",
       "      <td>2.266057</td>\n",
       "      <td>3.417224</td>\n",
       "      <td>21.865069</td>\n",
       "      <td>7.039330</td>\n",
       "      <td>52.686251</td>\n",
       "      <td>0</td>\n",
       "    </tr>\n",
       "    <tr>\n",
       "      <th>2</th>\n",
       "      <td>2</td>\n",
       "      <td>112.640625</td>\n",
       "      <td>39.818393</td>\n",
       "      <td>0.379639</td>\n",
       "      <td>0.922306</td>\n",
       "      <td>2.730769</td>\n",
       "      <td>15.689690</td>\n",
       "      <td>8.193471</td>\n",
       "      <td>85.649785</td>\n",
       "      <td>0</td>\n",
       "    </tr>\n",
       "    <tr>\n",
       "      <th>3</th>\n",
       "      <td>3</td>\n",
       "      <td>120.679688</td>\n",
       "      <td>45.918448</td>\n",
       "      <td>-0.098490</td>\n",
       "      <td>0.011775</td>\n",
       "      <td>2.696488</td>\n",
       "      <td>20.954662</td>\n",
       "      <td>8.183874</td>\n",
       "      <td>70.332899</td>\n",
       "      <td>0</td>\n",
       "    </tr>\n",
       "    <tr>\n",
       "      <th>4</th>\n",
       "      <td>4</td>\n",
       "      <td>134.070312</td>\n",
       "      <td>57.720107</td>\n",
       "      <td>-0.107772</td>\n",
       "      <td>-0.573335</td>\n",
       "      <td>1.107860</td>\n",
       "      <td>11.255051</td>\n",
       "      <td>16.107748</td>\n",
       "      <td>308.753765</td>\n",
       "      <td>0</td>\n",
       "    </tr>\n",
       "    <tr>\n",
       "      <th>...</th>\n",
       "      <td>...</td>\n",
       "      <td>...</td>\n",
       "      <td>...</td>\n",
       "      <td>...</td>\n",
       "      <td>...</td>\n",
       "      <td>...</td>\n",
       "      <td>...</td>\n",
       "      <td>...</td>\n",
       "      <td>...</td>\n",
       "      <td>...</td>\n",
       "    </tr>\n",
       "    <tr>\n",
       "      <th>117559</th>\n",
       "      <td>117559</td>\n",
       "      <td>132.843750</td>\n",
       "      <td>56.748838</td>\n",
       "      <td>-0.060070</td>\n",
       "      <td>-0.554084</td>\n",
       "      <td>4.054348</td>\n",
       "      <td>27.844144</td>\n",
       "      <td>6.564423</td>\n",
       "      <td>44.442664</td>\n",
       "      <td>0</td>\n",
       "    </tr>\n",
       "    <tr>\n",
       "      <th>117560</th>\n",
       "      <td>117560</td>\n",
       "      <td>112.578125</td>\n",
       "      <td>52.539271</td>\n",
       "      <td>0.179580</td>\n",
       "      <td>-0.306961</td>\n",
       "      <td>1.637960</td>\n",
       "      <td>15.331913</td>\n",
       "      <td>11.384718</td>\n",
       "      <td>142.535470</td>\n",
       "      <td>0</td>\n",
       "    </tr>\n",
       "    <tr>\n",
       "      <th>117561</th>\n",
       "      <td>117561</td>\n",
       "      <td>119.757812</td>\n",
       "      <td>49.980013</td>\n",
       "      <td>0.064402</td>\n",
       "      <td>-0.270822</td>\n",
       "      <td>3.877926</td>\n",
       "      <td>19.788559</td>\n",
       "      <td>6.959740</td>\n",
       "      <td>56.367789</td>\n",
       "      <td>0</td>\n",
       "    </tr>\n",
       "    <tr>\n",
       "      <th>117562</th>\n",
       "      <td>117562</td>\n",
       "      <td>105.789062</td>\n",
       "      <td>46.986595</td>\n",
       "      <td>0.441426</td>\n",
       "      <td>0.372466</td>\n",
       "      <td>2.097826</td>\n",
       "      <td>17.170612</td>\n",
       "      <td>9.442445</td>\n",
       "      <td>99.074539</td>\n",
       "      <td>0</td>\n",
       "    </tr>\n",
       "    <tr>\n",
       "      <th>117563</th>\n",
       "      <td>117563</td>\n",
       "      <td>113.515625</td>\n",
       "      <td>50.935956</td>\n",
       "      <td>0.031517</td>\n",
       "      <td>-0.443831</td>\n",
       "      <td>23.290970</td>\n",
       "      <td>62.006842</td>\n",
       "      <td>2.386364</td>\n",
       "      <td>4.001859</td>\n",
       "      <td>0</td>\n",
       "    </tr>\n",
       "  </tbody>\n",
       "</table>\n",
       "<p>117564 rows × 10 columns</p>\n",
       "</div>"
      ],
      "text/plain": [
       "            id  Mean_Integrated         SD        EK  Skewness  \\\n",
       "0            0       133.171875  59.716081  0.043133 -0.703383   \n",
       "1            1        87.093750  36.257973  0.435469  2.266057   \n",
       "2            2       112.640625  39.818393  0.379639  0.922306   \n",
       "3            3       120.679688  45.918448 -0.098490  0.011775   \n",
       "4            4       134.070312  57.720107 -0.107772 -0.573335   \n",
       "...        ...              ...        ...       ...       ...   \n",
       "117559  117559       132.843750  56.748838 -0.060070 -0.554084   \n",
       "117560  117560       112.578125  52.539271  0.179580 -0.306961   \n",
       "117561  117561       119.757812  49.980013  0.064402 -0.270822   \n",
       "117562  117562       105.789062  46.986595  0.441426  0.372466   \n",
       "117563  117563       113.515625  50.935956  0.031517 -0.443831   \n",
       "\n",
       "        Mean_DMSNR_Curve  SD_DMSNR_Curve  EK_DMSNR_Curve  \\\n",
       "0              54.917224       70.084438        0.749798   \n",
       "1               3.417224       21.865069        7.039330   \n",
       "2               2.730769       15.689690        8.193471   \n",
       "3               2.696488       20.954662        8.183874   \n",
       "4               1.107860       11.255051       16.107748   \n",
       "...                  ...             ...             ...   \n",
       "117559          4.054348       27.844144        6.564423   \n",
       "117560          1.637960       15.331913       11.384718   \n",
       "117561          3.877926       19.788559        6.959740   \n",
       "117562          2.097826       17.170612        9.442445   \n",
       "117563         23.290970       62.006842        2.386364   \n",
       "\n",
       "        Skewness_DMSNR_Curve  Class  \n",
       "0                  -0.649512      0  \n",
       "1                  52.686251      0  \n",
       "2                  85.649785      0  \n",
       "3                  70.332899      0  \n",
       "4                 308.753765      0  \n",
       "...                      ...    ...  \n",
       "117559             44.442664      0  \n",
       "117560            142.535470      0  \n",
       "117561             56.367789      0  \n",
       "117562             99.074539      0  \n",
       "117563              4.001859      0  \n",
       "\n",
       "[117564 rows x 10 columns]"
      ]
     },
     "execution_count": 7,
     "metadata": {},
     "output_type": "execute_result"
    }
   ],
   "source": [
    "df"
   ]
  },
  {
   "cell_type": "code",
   "execution_count": 8,
   "metadata": {},
   "outputs": [
    {
     "name": "stdout",
     "output_type": "stream",
     "text": [
      "<class 'pandas.core.frame.DataFrame'>\n",
      "RangeIndex: 117564 entries, 0 to 117563\n",
      "Data columns (total 10 columns):\n",
      " #   Column                Non-Null Count   Dtype  \n",
      "---  ------                --------------   -----  \n",
      " 0   id                    117564 non-null  int64  \n",
      " 1   Mean_Integrated       117564 non-null  float64\n",
      " 2   SD                    117564 non-null  float64\n",
      " 3   EK                    117564 non-null  float64\n",
      " 4   Skewness              117564 non-null  float64\n",
      " 5   Mean_DMSNR_Curve      117564 non-null  float64\n",
      " 6   SD_DMSNR_Curve        117564 non-null  float64\n",
      " 7   EK_DMSNR_Curve        117564 non-null  float64\n",
      " 8   Skewness_DMSNR_Curve  117564 non-null  float64\n",
      " 9   Class                 117564 non-null  int64  \n",
      "dtypes: float64(8), int64(2)\n",
      "memory usage: 9.0 MB\n"
     ]
    }
   ],
   "source": [
    "df.info()"
   ]
  },
  {
   "cell_type": "code",
   "execution_count": 11,
   "metadata": {},
   "outputs": [
    {
     "data": {
      "text/plain": [
       "0"
      ]
     },
     "execution_count": 11,
     "metadata": {},
     "output_type": "execute_result"
    }
   ],
   "source": [
    "df['Class'].dtype == 'int64'\n",
    "a = df.isna().sum().sum()\n",
    "a"
   ]
  },
  {
   "cell_type": "code",
   "execution_count": 14,
   "metadata": {},
   "outputs": [
    {
     "data": {
      "text/plain": [
       "['id',\n",
       " 'Mean_Integrated',\n",
       " 'SD',\n",
       " 'EK',\n",
       " 'Skewness',\n",
       " 'Mean_DMSNR_Curve',\n",
       " 'SD_DMSNR_Curve',\n",
       " 'EK_DMSNR_Curve',\n",
       " 'Skewness_DMSNR_Curve',\n",
       " 'Class']"
      ]
     },
     "execution_count": 14,
     "metadata": {},
     "output_type": "execute_result"
    }
   ],
   "source": [
    "a = [ft for ft in df.columns if df[ft].isna().sum()==0]\n",
    "a"
   ]
  },
  {
   "cell_type": "code",
   "execution_count": 16,
   "metadata": {},
   "outputs": [
    {
     "data": {
      "text/plain": [
       "2"
      ]
     },
     "execution_count": 16,
     "metadata": {},
     "output_type": "execute_result"
    }
   ],
   "source": [
    "df['Class'].nunique()"
   ]
  },
  {
   "cell_type": "code",
   "execution_count": 2,
   "metadata": {},
   "outputs": [
    {
     "name": "stdout",
     "output_type": "stream",
     "text": [
      "1\n",
      "2\n",
      "3\n"
     ]
    }
   ],
   "source": [
    "l = [1,2,3]\n",
    "for i in l:\n",
    "    print(i)\n",
    "    with open('example.txt', 'w', encoding='utf-8') as my_file:\n",
    "        my_file.write(f'{i}\\n')\n",
    "        my_file.close()"
   ]
  },
  {
   "cell_type": "code",
   "execution_count": 4,
   "metadata": {},
   "outputs": [],
   "source": [
    "a_list = ['bobby', 'hadz', 'com']\n",
    "with open('example.txt', 'w', encoding='utf-8') as my_file:\n",
    "    for item in a_list:\n",
    "        my_file.write(f'{item}\\n')"
   ]
  },
  {
   "cell_type": "code",
   "execution_count": 1,
   "metadata": {},
   "outputs": [
    {
     "data": {
      "text/plain": [
       "'g:\\\\success_analytics_courses\\\\internship_project\\\\pulsar_project'"
      ]
     },
     "execution_count": 1,
     "metadata": {},
     "output_type": "execute_result"
    }
   ],
   "source": [
    "import os\n",
    "%pwd\n",
    "os.chdir(\"../\")\n",
    "%pwd"
   ]
  },
  {
   "cell_type": "code",
   "execution_count": 3,
   "metadata": {},
   "outputs": [],
   "source": [
    "import os\n",
    "from pulsarclassification.logging import logging\n",
    "from pulsarclassification.constants import *\n",
    "from pulsarclassification.utils.common import read_yaml,create_directories,get_file_size\n",
    "#from pulsarclassification.entity import DataIngestionConfiguration,DataValidationConfiguration\n",
    "\n",
    "class DataValidation:\n",
    "    def __init__(self):\n",
    "\n",
    "        try:\n",
    "            #self.ingestion_config = ingestion_config\n",
    "            #self.validation_config = validation_config\n",
    "            self.schema = read_yaml(SCHEMA_FILE_PATH)\n",
    "        except Exception as e:\n",
    "            raise e \n",
    "    def check(self):\n",
    "        return self.schema"
   ]
  },
  {
   "cell_type": "code",
   "execution_count": 4,
   "metadata": {},
   "outputs": [
    {
     "name": "stdout",
     "output_type": "stream",
     "text": [
      "[20-08-2023 18:27:25: INFO: common:  yaml file from this path config\\schema.yaml read succesfully]\n"
     ]
    }
   ],
   "source": [
    "dv = DataValidation()\n",
    "a = dv.check()"
   ]
  },
  {
   "cell_type": "code",
   "execution_count": 5,
   "metadata": {},
   "outputs": [
    {
     "data": {
      "text/plain": [
       "9"
      ]
     },
     "execution_count": 5,
     "metadata": {},
     "output_type": "execute_result"
    }
   ],
   "source": [
    "a.number_of_feature_columns"
   ]
  },
  {
   "cell_type": "code",
   "execution_count": 2,
   "metadata": {},
   "outputs": [
    {
     "name": "stdout",
     "output_type": "stream",
     "text": [
      "Subject added successfully.\n"
     ]
    }
   ],
   "source": [
    "def add_subject_to_file(filename, new_subject):\n",
    "    try:\n",
    "        with open(filename, 'a') as file:\n",
    "            file.write(new_subject + '\\n')  # Add a newline after each subject\n",
    "        print(\"Subject added successfully.\")\n",
    "    except Exception as e:\n",
    "        print(\"An error occurred:\", e)\n",
    "\n",
    "# Example usage\n",
    "file_name = \"subjects.txt\"  # Replace this with your actual file name\n",
    "new_subject = \"Biology\"     # Replace this with the new subject you want to add\n",
    "\n",
    "add_subject_to_file(file_name, new_subject)\n"
   ]
  }
 ],
 "metadata": {
  "kernelspec": {
   "display_name": "Python 3",
   "language": "python",
   "name": "python3"
  },
  "language_info": {
   "codemirror_mode": {
    "name": "ipython",
    "version": 3
   },
   "file_extension": ".py",
   "mimetype": "text/x-python",
   "name": "python",
   "nbconvert_exporter": "python",
   "pygments_lexer": "ipython3",
   "version": "3.9.17"
  },
  "orig_nbformat": 4
 },
 "nbformat": 4,
 "nbformat_minor": 2
}
