{
 "cells": [
  {
   "cell_type": "code",
   "execution_count": 1,
   "metadata": {},
   "outputs": [
    {
     "data": {
      "text/plain": [
       "'g:\\\\success_analytics_courses\\\\internship_project\\\\pulsar_project\\\\research'"
      ]
     },
     "execution_count": 1,
     "metadata": {},
     "output_type": "execute_result"
    }
   ],
   "source": [
    "import os\n",
    "%pwd"
   ]
  },
  {
   "cell_type": "code",
   "execution_count": 2,
   "metadata": {},
   "outputs": [
    {
     "data": {
      "text/plain": [
       "'g:\\\\success_analytics_courses\\\\internship_project\\\\pulsar_project'"
      ]
     },
     "execution_count": 2,
     "metadata": {},
     "output_type": "execute_result"
    }
   ],
   "source": [
    "os.chdir(\"../\")\n",
    "%pwd"
   ]
  },
  {
   "cell_type": "code",
   "execution_count": 3,
   "metadata": {},
   "outputs": [],
   "source": [
    "#step -  1 : yaml update\n",
    "# step - 2 : constant updated\n",
    "# step - 4 : entity updated\n",
    "\n",
    "from dataclasses import dataclass \n",
    "from pathlib import Path\n",
    "\n",
    "@dataclass(frozen=True)\n",
    "class DataIngestionConfiguration:\n",
    "\n",
    "    root_dir_name: Path\n",
    "    dataset_download_url: str\n",
    "    zip_data_dir_name: Path\n",
    "    unzip_data_dir_name: Path\n"
   ]
  },
  {
   "cell_type": "code",
   "execution_count": 10,
   "metadata": {},
   "outputs": [],
   "source": [
    "#step - 5 : updating configuration manager\n",
    "\n",
    "import sys\n",
    "from pulsarclassification.logging import logging\n",
    "from pulsarclassification.exception import PulsarException\n",
    "from box.exceptions import BoxValueError\n",
    "from pulsarclassification.constants import *\n",
    "from pulsarclassification.utils.common import read_yaml,create_directories\n",
    "#from pulsarclassification.entity import DataIngestionConfiguration\n",
    "\n",
    "class ConfigurationManager:\n",
    "\n",
    "    def __init__(self, config_file_path: str = CONFIG_FILE_PATH):\n",
    "        \n",
    "        try:\n",
    "            self.config = read_yaml(CONFIG_FILE_PATH)\n",
    "            create_directories(self.config.artifacts_dir_name)\n",
    "            logging.info(f\" Artifacts directory created at : {self.config.artifacts_dir_name} \")\n",
    "\n",
    "        except Exception as e:\n",
    "            raise PulsarException(e,sys)\n",
    "        \n",
    "    def get_data_ingestion_config(self) -> DataIngestionConfiguration:\n",
    "\n",
    "        try:\n",
    "            artifact_dir = self.config.artifacts_dir_name\n",
    "            config = self.config.data_ingestion_config\n",
    "\n",
    "            data_ingestion_dir = os.path.join(artifact_dir,config.root_dir_name)\n",
    "            create_directories(data_ingestion_dir)\n",
    "\n",
    "            raw_data_dir = os.path.join(data_ingestion_dir,config.zip_data_dir_name)\n",
    "            create_directories(raw_data_dir)\n",
    "\n",
    "            ingested_csv_data_dir = os.path.join(data_ingestion_dir,config.unzip_data_dir_name)\n",
    "            create_directories(ingested_csv_data_dir)\n",
    "\n",
    "            data_ingestion_config = DataIngestionConfiguration(\n",
    "                root_dir_name  = config.root_dir_name,\n",
    "                dataset_download_url = config.dataset_download_url,\n",
    "                zip_data_dir_name = raw_data_dir,\n",
    "                unzip_data_dir_name = ingested_csv_data_dir\n",
    "            )\n",
    "\n",
    "            logging.info(f\" Data ingestion configuration: {data_ingestion_config}\")\n",
    "\n",
    "            return data_ingestion_config\n",
    "    \n",
    "        except Exception as e:\n",
    "            raise PulsarException(e,sys)\n",
    "        \n"
   ]
  },
  {
   "cell_type": "code",
   "execution_count": 11,
   "metadata": {},
   "outputs": [],
   "source": [
    "#stage - 6 : updating components\n",
    "\n",
    "import os\n",
    "import urllib.request as request\n",
    "import zipfile\n",
    "from pulsarclassification.logging import logging\n",
    "from pulsarclassification.utils.common import get_file_size\n",
    "#from pulsarclassification.entity import DataIngestionConfiguration\n",
    "\n",
    "class DataIngestion:\n",
    "    def __init__(self, config : DataIngestionConfiguration):\n",
    "\n",
    "        try:\n",
    "            self.config = config\n",
    "        except Exception as e:\n",
    "            raise PulsarException(e,sys)\n",
    "        \n",
    "    def zip_file_downloader(self):\n",
    "\n",
    "        try:\n",
    "            zip_file_name = os.path.basename(self.config.dataset_download_url)\n",
    "            zip_data_path = os.path.join(self.config.zip_data_dir_name,zip_file_name)\n",
    "            self.zip_data_path_ = zip_data_path\n",
    "            if not os.path.exists(zip_data_path):\n",
    "                filename, headers = request.urlretrieve(url = self.config.dataset_download_url,filename=zip_data_path)\n",
    "                logging.info(f\"{filename} download! with following info: \\n{headers}\")\n",
    "            else:\n",
    "                logging.info(f\"File already exists of size: {get_file_size(Path(zip_data_path))}\") \n",
    "        except Exception as e:\n",
    "            raise PulsarException(e,sys)\n",
    "        \n",
    "    def zip_file_extractor(self):\n",
    "\n",
    "        try:\n",
    "            unzip_data_path = self.config.unzip_data_dir_name\n",
    "            with zipfile.ZipFile(self.zip_data_path_, 'r') as zip_file:\n",
    "                zip_file.extractall(unzip_data_path)\n",
    "            logging.info(f\"Data unzipped in: {unzip_data_path}\")\n",
    "        except Exception as e:\n",
    "            raise PulsarException(e,sys)\n",
    "\n"
   ]
  },
  {
   "cell_type": "code",
   "execution_count": 12,
   "metadata": {},
   "outputs": [
    {
     "name": "stdout",
     "output_type": "stream",
     "text": [
      "[16-08-2023 21:38:49: INFO: common:  yaml file from this path config\\config.yaml read succesfully]\n",
      "[16-08-2023 21:38:49: INFO: common:  Directory created in this: artifacts ]\n",
      "[16-08-2023 21:38:49: INFO: 2394603619:  Artifacts directory created at : artifacts ]\n",
      "[16-08-2023 21:38:49: INFO: common:  Directory created in this: artifacts\\data_ingestion ]\n",
      "[16-08-2023 21:38:49: INFO: common:  Directory created in this: artifacts\\data_ingestion\\raw_data ]\n",
      "[16-08-2023 21:38:49: INFO: common:  Directory created in this: artifacts\\data_ingestion\\ingested_data ]\n",
      "[16-08-2023 21:38:49: INFO: 2394603619:  Data ingestion configuration: DataIngestionConfiguration(root_dir_name='data_ingestion', dataset_download_url='https://github.com/sumit-1492/datasets/raw/main/playground-series-s3e10.zip', zip_data_dir_name='artifacts\\\\data_ingestion\\\\raw_data', unzip_data_dir_name='artifacts\\\\data_ingestion\\\\ingested_data')]\n",
      "[16-08-2023 21:38:53: INFO: 4093054242: artifacts\\data_ingestion\\raw_data\\playground-series-s3e10.zip download! with following info: \n",
      "Connection: close\n",
      "Content-Length: 9078737\n",
      "Cache-Control: max-age=300\n",
      "Content-Security-Policy: default-src 'none'; style-src 'unsafe-inline'; sandbox\n",
      "Content-Type: application/zip\n",
      "ETag: \"08fe85be70cd61f4d42f6c2fcaa47772c2334621931bd12cc6f3de90987a9503\"\n",
      "Strict-Transport-Security: max-age=31536000\n",
      "X-Content-Type-Options: nosniff\n",
      "X-Frame-Options: deny\n",
      "X-XSS-Protection: 1; mode=block\n",
      "X-GitHub-Request-Id: 35F2:3B5113:121086:19E5BD:64DCF1FE\n",
      "Accept-Ranges: bytes\n",
      "Date: Wed, 16 Aug 2023 16:08:51 GMT\n",
      "Via: 1.1 varnish\n",
      "X-Served-By: cache-ccu830025-CCU\n",
      "X-Cache: HIT\n",
      "X-Cache-Hits: 0\n",
      "X-Timer: S1692202131.428893,VS0,VE342\n",
      "Vary: Authorization,Accept-Encoding,Origin\n",
      "Access-Control-Allow-Origin: *\n",
      "Cross-Origin-Resource-Policy: cross-origin\n",
      "X-Fastly-Request-ID: 3515405c632f95abb1e1854d72b56af13567dc61\n",
      "Expires: Wed, 16 Aug 2023 16:13:51 GMT\n",
      "Source-Age: 0\n",
      "\n",
      "]\n",
      "[16-08-2023 21:38:54: INFO: 4093054242: Data unzipped in: artifacts\\data_ingestion\\ingested_data]\n"
     ]
    }
   ],
   "source": [
    "## updating pipeline\n",
    "\n",
    "from pulsarclassification.config.configuration import ConfigurationManager\n",
    "from pulsarclassification.components.data_ingestion import DataIngestion\n",
    "\n",
    "try:\n",
    "    config = ConfigurationManager()\n",
    "    data_ingestion_config = config.get_data_ingestion_config()\n",
    "    data_ingestion = DataIngestion(config=data_ingestion_config)\n",
    "    data_ingestion.zip_file_downloader()\n",
    "    data_ingestion.zip_file_extractor()\n",
    "except Exception as e:\n",
    "            raise PulsarException(e,sys)"
   ]
  }
 ],
 "metadata": {
  "kernelspec": {
   "display_name": "Python 3",
   "language": "python",
   "name": "python3"
  },
  "language_info": {
   "codemirror_mode": {
    "name": "ipython",
    "version": 3
   },
   "file_extension": ".py",
   "mimetype": "text/x-python",
   "name": "python",
   "nbconvert_exporter": "python",
   "pygments_lexer": "ipython3",
   "version": "3.9.17"
  },
  "orig_nbformat": 4
 },
 "nbformat": 4,
 "nbformat_minor": 2
}
